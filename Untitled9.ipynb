{
  "nbformat": 4,
  "nbformat_minor": 0,
  "metadata": {
    "colab": {
      "provenance": [],
      "gpuType": "T4",
      "authorship_tag": "ABX9TyNhkgIrzE9/4uoC06IvQgF4",
      "include_colab_link": true
    },
    "kernelspec": {
      "name": "python3",
      "display_name": "Python 3"
    },
    "language_info": {
      "name": "python"
    },
    "accelerator": "GPU"
  },
  "cells": [
    {
      "cell_type": "markdown",
      "metadata": {
        "id": "view-in-github",
        "colab_type": "text"
      },
      "source": [
        "<a href=\"https://colab.research.google.com/github/jslee0110/.2023-1aidl/blob/main/Untitled9.ipynb\" target=\"_parent\"><img src=\"https://colab.research.google.com/assets/colab-badge.svg\" alt=\"Open In Colab\"/></a>"
      ]
    },
    {
      "cell_type": "markdown",
      "source": [
        "내 드라이브>earthquake 파일을 만들어서 거기에 모든 자료를 넣은 조건의 코드입니다!"
      ],
      "metadata": {
        "id": "slBa7gV7UF8Z"
      }
    },
    {
      "cell_type": "code",
      "execution_count": 1,
      "metadata": {
        "colab": {
          "base_uri": "https://localhost:8080/"
        },
        "id": "7ZBERHa-DyKR",
        "outputId": "0d64f556-36ac-4222-d24b-9bca8ebc30c1"
      },
      "outputs": [
        {
          "output_type": "stream",
          "name": "stdout",
          "text": [
            "Mounted at /content/drive\n"
          ]
        }
      ],
      "source": [
        "from google.colab import drive\n",
        "drive.mount('/content/drive')"
      ]
    },
    {
      "cell_type": "code",
      "source": [
        "import numpy as np\n",
        "import pandas as pd\n",
        "from xgboost import XGBClassifier\n",
        "from sklearn.model_selection import StratifiedKFold, cross_val_score, train_test_split\n",
        "from sklearn.metrics import f1_score\n",
        "from xgboost import XGBClassifier\n",
        "\n",
        "\n",
        "# Preprocessing\n",
        "from sklearn.compose import ColumnTransformer\n",
        "from sklearn.pipeline import make_pipeline, Pipeline\n",
        "from sklearn.preprocessing import OneHotEncoder, StandardScaler, RobustScaler, FunctionTransformer\n",
        "from sklearn.base import BaseEstimator, TransformerMixin, ClassNamePrefixFeaturesOutMixin\n",
        "\n",
        "from pathlib import Path\n",
        "import pickle\n",
        "from os import PathLike\n",
        "import torch"
      ],
      "metadata": {
        "id": "ndRIW_VKJ1Cb"
      },
      "execution_count": 2,
      "outputs": []
    },
    {
      "cell_type": "code",
      "source": [
        "\n",
        "\n",
        "\n",
        "TRAINING_FEATURES_PATH = '/content/drive/MyDrive/earthquake/train_values.csv'\n",
        "TRAINING_LABELS_PATH = '/content/drive/MyDrive/earthquake/train_labels.csv'\n",
        "TEST_FEATURES_PATH = '/content/drive/MyDrive/earthquake/test_values.csv'\n",
        "SUBMISSION_FORMAT_PATH = '/content/drive/MyDrive/earthquake/submission_format.csv'\n",
        "\n",
        "DEVICE = torch.device('cuda' if torch.cuda.is_available() else 'cpu')"
      ],
      "metadata": {
        "id": "lRLGRycsKRY4"
      },
      "execution_count": 3,
      "outputs": []
    },
    {
      "cell_type": "markdown",
      "source": [
        "데이터 불러오기"
      ],
      "metadata": {
        "id": "_yoa-vwCLzSg"
      }
    },
    {
      "cell_type": "code",
      "source": [
        "features_df         = pd.read_csv(TRAINING_FEATURES_PATH,   index_col=0)\n",
        "labels_df           = pd.read_csv(TRAINING_LABELS_PATH,     index_col=0) - 1\n",
        "test_features_df    = pd.read_csv(TEST_FEATURES_PATH,       index_col=0)"
      ],
      "metadata": {
        "id": "nG6sip0dKi7G"
      },
      "execution_count": 4,
      "outputs": []
    },
    {
      "cell_type": "markdown",
      "source": [
        "데이터 전처리"
      ],
      "metadata": {
        "id": "wG0x4E-rL042"
      }
    },
    {
      "cell_type": "code",
      "source": [
        "# Setup\n",
        "\n",
        "geo_level_columns = ['geo_level_1_id', 'geo_level_2_id', 'geo_level_3_id']\n",
        "numerical_columns = ['count_floors_pre_eq', 'age', 'area_percentage', 'height_percentage', 'count_families']\n",
        "categorical_columns = ['foundation_type', 'ground_floor_type', 'land_surface_condition', \n",
        "                       'legal_ownership_status', 'other_floor_type',\n",
        "                       'plan_configuration', 'position', 'roof_type']"
      ],
      "metadata": {
        "id": "MIB4ITqTLsKg"
      },
      "execution_count": 5,
      "outputs": []
    },
    {
      "cell_type": "code",
      "source": [
        "class ThresholdReplacer(BaseEstimator, TransformerMixin, ClassNamePrefixFeaturesOutMixin):\n",
        "    \n",
        "    def __init__(self, threshold: int, unk_value: int = -1) -> None:\n",
        "        super().__init__()\n",
        "        self.threshold = threshold\n",
        "        self.unk_value = unk_value\n",
        "\n",
        "    def fit(self, X, y=None):\n",
        "        assert isinstance(X, pd.DataFrame)\n",
        "\n",
        "        self.columnwise_keep_categories = {\n",
        "            column: self._get_keep_categories(X[column]) for column in X.columns\n",
        "        }\n",
        "\n",
        "        return self\n",
        "\n",
        "    def transform(self, X):\n",
        "        assert isinstance(X, pd.DataFrame)\n",
        "        out = X.copy()\n",
        "\n",
        "        for column, keep_categories in self.columnwise_keep_categories.items():\n",
        "          unique_values = out[column].unique()\n",
        "          to_replace = set(unique_values).difference(set(keep_categories))\n",
        "          out[column].replace(to_replace, self.unk_value, inplace=True)\n",
        "\n",
        "        return out\n",
        "\n",
        "    def _get_keep_categories(self, series: pd.Series) -> pd.Series:\n",
        "        return ( \n",
        "            series\n",
        "              .value_counts()\n",
        "              .index[(series.value_counts() > self.threshold)]\n",
        "        ) # type: ignore"
      ],
      "metadata": {
        "id": "SxdhI0M4L5Te"
      },
      "execution_count": 6,
      "outputs": []
    },
    {
      "cell_type": "code",
      "source": [
        "class DREncoder(torch.nn.Module):\n",
        "\n",
        "    def __init__(self, \n",
        "                 latent_dim: int=16, \n",
        "                 geo_lv1_size: int=31, \n",
        "                 geo_lv2_size: int=1414,\n",
        "                 geo_lv3_size: int=11861) -> None:\n",
        "        super().__init__()\n",
        "        self.geo_level1_embeddings = torch.nn.Embedding(geo_lv1_size, 16)\n",
        "        self.geo_level2_embeddings = torch.nn.Embedding(geo_lv2_size, 128)\n",
        "        self.geo_level3_embeddings = torch.nn.Embedding(geo_lv3_size, 128) \n",
        "        self.compressor = torch.nn.Linear(16+128+128, latent_dim)\n",
        "\n",
        "    def forward(self, x):\n",
        "        x_1 = self.geo_level1_embeddings(x[:, 0])\n",
        "        x_2 = self.geo_level2_embeddings(x[:, 1])\n",
        "        x_3 = self.geo_level3_embeddings(x[:, 2])\n",
        "        x = torch.concat((x_1, x_2, x_3), dim=1)\n",
        "        x = torch.nn.functional.relu(x)\n",
        "        return torch.nn.functional.relu(self.compressor(x))\n",
        "\n",
        "\n",
        "class GeoDimensionReduction0(BaseEstimator, TransformerMixin, ClassNamePrefixFeaturesOutMixin):\n",
        "\n",
        "    def __init__(\n",
        "            self, \n",
        "            path: PathLike,\n",
        "            latent_dim: int=16, \n",
        "            geo_lv1_size: int=31,\n",
        "            geo_lv2_size: int=1418,\n",
        "            geo_lv3_size: int=11861) -> None:\n",
        "        super().__init__()\n",
        "        self.path = path\n",
        "        self.model = DREncoder(\n",
        "            latent_dim, \n",
        "            geo_lv1_size,\n",
        "            geo_lv2_size,\n",
        "            geo_lv3_size\n",
        "        )\n",
        "        self.latent_dim = latent_dim\n",
        "        self.geo_lv1_size = geo_lv1_size\n",
        "        self.geo_lv2_size = geo_lv2_size\n",
        "        self.geo_lv3_size = geo_lv3_size\n",
        "        self.model.load_state_dict(torch.load(path, map_location=DEVICE))\n",
        "\n",
        "    def fit(self, X: pd.DataFrame, y=None, *args, **kwargs):\n",
        "        return self\n",
        "\n",
        "    def transform(self, X: pd.DataFrame, y=None, *args, **kwargs):\n",
        "        # Convert pd to numpy\n",
        "        if isinstance(X, pd.DataFrame):\n",
        "            X = X.values # type: ignore\n",
        "        # Apply encoder\n",
        "        self.model.eval()\n",
        "        X = torch.from_numpy(X).type(torch.long) # type: ignore\n",
        "        return self.model(X).detach().numpy()\n",
        "    "
      ],
      "metadata": {
        "id": "-JpcVDW7L_L9"
      },
      "execution_count": 7,
      "outputs": []
    },
    {
      "cell_type": "code",
      "source": [
        "# Load All Label Encoders\n",
        "with open('/content/drive/MyDrive/earthquake/geo-lv-1-label-encoder.pickle', 'rb') as f:\n",
        "    le1 = pickle.load(f)\n",
        "with open('/content/drive/MyDrive/earthquake/geo-lv-2-label-encoder.pickle', 'rb') as f:\n",
        "    le2 = pickle.load(f)\n",
        "with open('/content/drive/MyDrive/earthquake/geo-lv-3-label-encoder.pickle', 'rb') as f:\n",
        "    le3 = pickle.load(f)\n",
        "\n",
        "# Prepare Transformers\n",
        "geo_lv1_le = FunctionTransformer(\n",
        "    func=lambda x: np.array(le1.transform(x.values.ravel())).reshape(-1, 1),\n",
        "    feature_names_out='one-to-one'\n",
        ")\n",
        "\n",
        "geo_lv2_le = FunctionTransformer(\n",
        "    func=lambda x: np.array(le2.transform(x.values.ravel())).reshape(-1, 1), \n",
        "    feature_names_out='one-to-one'\n",
        ")\n",
        "\n",
        "geo_lv3_le = FunctionTransformer(\n",
        "    func=lambda x: np.array(le3.transform(x.values.ravel())).reshape(-1, 1), \n",
        "    feature_names_out='one-to-one'\n",
        ")\n",
        "\n",
        "# Dim Reducer\n",
        "geo_dim_reduction_preprocessor = ColumnTransformer(\n",
        "    transformers=[\n",
        "        ('geo1_le', geo_lv1_le, ['geo_level_1_id']),\n",
        "        ('geo2_le', geo_lv2_le, ['geo_level_2_id']),\n",
        "        ('geo3_le', geo_lv3_le, ['geo_level_3_id']),\n",
        "    ], \n",
        "    remainder='drop', \n",
        "    verbose_feature_names_out=False\n",
        ").set_output(transform='pandas')\n",
        "\n",
        "geo_dim_reduction_pipe = Pipeline([\n",
        "    ('label_encoder', geo_dim_reduction_preprocessor),\n",
        "    ('embedder', GeoDimensionReduction0('/content/drive/MyDrive/earthquake/project-dr-16.pt', latent_dim=16)),\n",
        "])\n",
        "\n",
        "\n",
        "preprocessor = ColumnTransformer(\n",
        "    transformers=[\n",
        "        ('categorical', OneHotEncoder(drop='first', handle_unknown='ignore', min_frequency=1, sparse=False), categorical_columns + ['geo_level_1_id']),\n",
        "        ('geo_dim_reduction', geo_dim_reduction_pipe, geo_level_columns),\n",
        "        ('geo_unk',  ThresholdReplacer(3, -1), geo_level_columns),\n",
        "    ],\n",
        "    remainder='passthrough'\n",
        ")\n",
        "preprocessor.set_output(transform='pandas')"
      ],
      "metadata": {
        "colab": {
          "base_uri": "https://localhost:8080/",
          "height": 291
        },
        "id": "A9Y2Xk25MD_m",
        "outputId": "8448b74f-3009-447d-a780-6703c6731e7a"
      },
      "execution_count": 8,
      "outputs": [
        {
          "output_type": "stream",
          "name": "stderr",
          "text": [
            "/usr/local/lib/python3.10/dist-packages/sklearn/base.py:318: UserWarning: Trying to unpickle estimator LabelEncoder from version 1.2.1 when using version 1.2.2. This might lead to breaking code or invalid results. Use at your own risk. For more info please refer to:\n",
            "https://scikit-learn.org/stable/model_persistence.html#security-maintainability-limitations\n",
            "  warnings.warn(\n"
          ]
        },
        {
          "output_type": "execute_result",
          "data": {
            "text/plain": [
              "ColumnTransformer(remainder='passthrough',\n",
              "                  transformers=[('categorical',\n",
              "                                 OneHotEncoder(drop='first',\n",
              "                                               handle_unknown='ignore',\n",
              "                                               min_frequency=1, sparse=False),\n",
              "                                 ['foundation_type', 'ground_floor_type',\n",
              "                                  'land_surface_condition',\n",
              "                                  'legal_ownership_status', 'other_floor_type',\n",
              "                                  'plan_configuration', 'position', 'roof_type',\n",
              "                                  'geo_level_1_id']),\n",
              "                                ('geo_dim_reduction',\n",
              "                                 Pipeli...\n",
              "                                                                                   FunctionTransformer(feature_names_out='one-to-one',\n",
              "                                                                                                       func=<function <lambda> at 0x7f3fd23e8a60>),\n",
              "                                                                                   ['geo_level_3_id'])],\n",
              "                                                                    verbose_feature_names_out=False)),\n",
              "                                                 ('embedder',\n",
              "                                                  GeoDimensionReduction0(path='/content/drive/MyDrive/earthquake/project-dr-16.pt'))]),\n",
              "                                 ['geo_level_1_id', 'geo_level_2_id',\n",
              "                                  'geo_level_3_id']),\n",
              "                                ('geo_unk', ThresholdReplacer(threshold=3),\n",
              "                                 ['geo_level_1_id', 'geo_level_2_id',\n",
              "                                  'geo_level_3_id'])])"
            ],
            "text/html": [
              "<style>#sk-container-id-1 {color: black;background-color: white;}#sk-container-id-1 pre{padding: 0;}#sk-container-id-1 div.sk-toggleable {background-color: white;}#sk-container-id-1 label.sk-toggleable__label {cursor: pointer;display: block;width: 100%;margin-bottom: 0;padding: 0.3em;box-sizing: border-box;text-align: center;}#sk-container-id-1 label.sk-toggleable__label-arrow:before {content: \"▸\";float: left;margin-right: 0.25em;color: #696969;}#sk-container-id-1 label.sk-toggleable__label-arrow:hover:before {color: black;}#sk-container-id-1 div.sk-estimator:hover label.sk-toggleable__label-arrow:before {color: black;}#sk-container-id-1 div.sk-toggleable__content {max-height: 0;max-width: 0;overflow: hidden;text-align: left;background-color: #f0f8ff;}#sk-container-id-1 div.sk-toggleable__content pre {margin: 0.2em;color: black;border-radius: 0.25em;background-color: #f0f8ff;}#sk-container-id-1 input.sk-toggleable__control:checked~div.sk-toggleable__content {max-height: 200px;max-width: 100%;overflow: auto;}#sk-container-id-1 input.sk-toggleable__control:checked~label.sk-toggleable__label-arrow:before {content: \"▾\";}#sk-container-id-1 div.sk-estimator input.sk-toggleable__control:checked~label.sk-toggleable__label {background-color: #d4ebff;}#sk-container-id-1 div.sk-label input.sk-toggleable__control:checked~label.sk-toggleable__label {background-color: #d4ebff;}#sk-container-id-1 input.sk-hidden--visually {border: 0;clip: rect(1px 1px 1px 1px);clip: rect(1px, 1px, 1px, 1px);height: 1px;margin: -1px;overflow: hidden;padding: 0;position: absolute;width: 1px;}#sk-container-id-1 div.sk-estimator {font-family: monospace;background-color: #f0f8ff;border: 1px dotted black;border-radius: 0.25em;box-sizing: border-box;margin-bottom: 0.5em;}#sk-container-id-1 div.sk-estimator:hover {background-color: #d4ebff;}#sk-container-id-1 div.sk-parallel-item::after {content: \"\";width: 100%;border-bottom: 1px solid gray;flex-grow: 1;}#sk-container-id-1 div.sk-label:hover label.sk-toggleable__label {background-color: #d4ebff;}#sk-container-id-1 div.sk-serial::before {content: \"\";position: absolute;border-left: 1px solid gray;box-sizing: border-box;top: 0;bottom: 0;left: 50%;z-index: 0;}#sk-container-id-1 div.sk-serial {display: flex;flex-direction: column;align-items: center;background-color: white;padding-right: 0.2em;padding-left: 0.2em;position: relative;}#sk-container-id-1 div.sk-item {position: relative;z-index: 1;}#sk-container-id-1 div.sk-parallel {display: flex;align-items: stretch;justify-content: center;background-color: white;position: relative;}#sk-container-id-1 div.sk-item::before, #sk-container-id-1 div.sk-parallel-item::before {content: \"\";position: absolute;border-left: 1px solid gray;box-sizing: border-box;top: 0;bottom: 0;left: 50%;z-index: -1;}#sk-container-id-1 div.sk-parallel-item {display: flex;flex-direction: column;z-index: 1;position: relative;background-color: white;}#sk-container-id-1 div.sk-parallel-item:first-child::after {align-self: flex-end;width: 50%;}#sk-container-id-1 div.sk-parallel-item:last-child::after {align-self: flex-start;width: 50%;}#sk-container-id-1 div.sk-parallel-item:only-child::after {width: 0;}#sk-container-id-1 div.sk-dashed-wrapped {border: 1px dashed gray;margin: 0 0.4em 0.5em 0.4em;box-sizing: border-box;padding-bottom: 0.4em;background-color: white;}#sk-container-id-1 div.sk-label label {font-family: monospace;font-weight: bold;display: inline-block;line-height: 1.2em;}#sk-container-id-1 div.sk-label-container {text-align: center;}#sk-container-id-1 div.sk-container {/* jupyter's `normalize.less` sets `[hidden] { display: none; }` but bootstrap.min.css set `[hidden] { display: none !important; }` so we also need the `!important` here to be able to override the default hidden behavior on the sphinx rendered scikit-learn.org. See: https://github.com/scikit-learn/scikit-learn/issues/21755 */display: inline-block !important;position: relative;}#sk-container-id-1 div.sk-text-repr-fallback {display: none;}</style><div id=\"sk-container-id-1\" class=\"sk-top-container\"><div class=\"sk-text-repr-fallback\"><pre>ColumnTransformer(remainder=&#x27;passthrough&#x27;,\n",
              "                  transformers=[(&#x27;categorical&#x27;,\n",
              "                                 OneHotEncoder(drop=&#x27;first&#x27;,\n",
              "                                               handle_unknown=&#x27;ignore&#x27;,\n",
              "                                               min_frequency=1, sparse=False),\n",
              "                                 [&#x27;foundation_type&#x27;, &#x27;ground_floor_type&#x27;,\n",
              "                                  &#x27;land_surface_condition&#x27;,\n",
              "                                  &#x27;legal_ownership_status&#x27;, &#x27;other_floor_type&#x27;,\n",
              "                                  &#x27;plan_configuration&#x27;, &#x27;position&#x27;, &#x27;roof_type&#x27;,\n",
              "                                  &#x27;geo_level_1_id&#x27;]),\n",
              "                                (&#x27;geo_dim_reduction&#x27;,\n",
              "                                 Pipeli...\n",
              "                                                                                   FunctionTransformer(feature_names_out=&#x27;one-to-one&#x27;,\n",
              "                                                                                                       func=&lt;function &lt;lambda&gt; at 0x7f3fd23e8a60&gt;),\n",
              "                                                                                   [&#x27;geo_level_3_id&#x27;])],\n",
              "                                                                    verbose_feature_names_out=False)),\n",
              "                                                 (&#x27;embedder&#x27;,\n",
              "                                                  GeoDimensionReduction0(path=&#x27;/content/drive/MyDrive/earthquake/project-dr-16.pt&#x27;))]),\n",
              "                                 [&#x27;geo_level_1_id&#x27;, &#x27;geo_level_2_id&#x27;,\n",
              "                                  &#x27;geo_level_3_id&#x27;]),\n",
              "                                (&#x27;geo_unk&#x27;, ThresholdReplacer(threshold=3),\n",
              "                                 [&#x27;geo_level_1_id&#x27;, &#x27;geo_level_2_id&#x27;,\n",
              "                                  &#x27;geo_level_3_id&#x27;])])</pre><b>In a Jupyter environment, please rerun this cell to show the HTML representation or trust the notebook. <br />On GitHub, the HTML representation is unable to render, please try loading this page with nbviewer.org.</b></div><div class=\"sk-container\" hidden><div class=\"sk-item sk-dashed-wrapped\"><div class=\"sk-label-container\"><div class=\"sk-label sk-toggleable\"><input class=\"sk-toggleable__control sk-hidden--visually\" id=\"sk-estimator-id-1\" type=\"checkbox\" ><label for=\"sk-estimator-id-1\" class=\"sk-toggleable__label sk-toggleable__label-arrow\">ColumnTransformer</label><div class=\"sk-toggleable__content\"><pre>ColumnTransformer(remainder=&#x27;passthrough&#x27;,\n",
              "                  transformers=[(&#x27;categorical&#x27;,\n",
              "                                 OneHotEncoder(drop=&#x27;first&#x27;,\n",
              "                                               handle_unknown=&#x27;ignore&#x27;,\n",
              "                                               min_frequency=1, sparse=False),\n",
              "                                 [&#x27;foundation_type&#x27;, &#x27;ground_floor_type&#x27;,\n",
              "                                  &#x27;land_surface_condition&#x27;,\n",
              "                                  &#x27;legal_ownership_status&#x27;, &#x27;other_floor_type&#x27;,\n",
              "                                  &#x27;plan_configuration&#x27;, &#x27;position&#x27;, &#x27;roof_type&#x27;,\n",
              "                                  &#x27;geo_level_1_id&#x27;]),\n",
              "                                (&#x27;geo_dim_reduction&#x27;,\n",
              "                                 Pipeli...\n",
              "                                                                                   FunctionTransformer(feature_names_out=&#x27;one-to-one&#x27;,\n",
              "                                                                                                       func=&lt;function &lt;lambda&gt; at 0x7f3fd23e8a60&gt;),\n",
              "                                                                                   [&#x27;geo_level_3_id&#x27;])],\n",
              "                                                                    verbose_feature_names_out=False)),\n",
              "                                                 (&#x27;embedder&#x27;,\n",
              "                                                  GeoDimensionReduction0(path=&#x27;/content/drive/MyDrive/earthquake/project-dr-16.pt&#x27;))]),\n",
              "                                 [&#x27;geo_level_1_id&#x27;, &#x27;geo_level_2_id&#x27;,\n",
              "                                  &#x27;geo_level_3_id&#x27;]),\n",
              "                                (&#x27;geo_unk&#x27;, ThresholdReplacer(threshold=3),\n",
              "                                 [&#x27;geo_level_1_id&#x27;, &#x27;geo_level_2_id&#x27;,\n",
              "                                  &#x27;geo_level_3_id&#x27;])])</pre></div></div></div><div class=\"sk-parallel\"><div class=\"sk-parallel-item\"><div class=\"sk-item\"><div class=\"sk-label-container\"><div class=\"sk-label sk-toggleable\"><input class=\"sk-toggleable__control sk-hidden--visually\" id=\"sk-estimator-id-2\" type=\"checkbox\" ><label for=\"sk-estimator-id-2\" class=\"sk-toggleable__label sk-toggleable__label-arrow\">categorical</label><div class=\"sk-toggleable__content\"><pre>[&#x27;foundation_type&#x27;, &#x27;ground_floor_type&#x27;, &#x27;land_surface_condition&#x27;, &#x27;legal_ownership_status&#x27;, &#x27;other_floor_type&#x27;, &#x27;plan_configuration&#x27;, &#x27;position&#x27;, &#x27;roof_type&#x27;, &#x27;geo_level_1_id&#x27;]</pre></div></div></div><div class=\"sk-serial\"><div class=\"sk-item\"><div class=\"sk-estimator sk-toggleable\"><input class=\"sk-toggleable__control sk-hidden--visually\" id=\"sk-estimator-id-3\" type=\"checkbox\" ><label for=\"sk-estimator-id-3\" class=\"sk-toggleable__label sk-toggleable__label-arrow\">OneHotEncoder</label><div class=\"sk-toggleable__content\"><pre>OneHotEncoder(drop=&#x27;first&#x27;, handle_unknown=&#x27;ignore&#x27;, min_frequency=1,\n",
              "              sparse=False)</pre></div></div></div></div></div></div><div class=\"sk-parallel-item\"><div class=\"sk-item\"><div class=\"sk-label-container\"><div class=\"sk-label sk-toggleable\"><input class=\"sk-toggleable__control sk-hidden--visually\" id=\"sk-estimator-id-4\" type=\"checkbox\" ><label for=\"sk-estimator-id-4\" class=\"sk-toggleable__label sk-toggleable__label-arrow\">geo_dim_reduction</label><div class=\"sk-toggleable__content\"><pre>[&#x27;geo_level_1_id&#x27;, &#x27;geo_level_2_id&#x27;, &#x27;geo_level_3_id&#x27;]</pre></div></div></div><div class=\"sk-serial\"><div class=\"sk-item\"><div class=\"sk-serial\"><div class=\"sk-item sk-dashed-wrapped\"><div class=\"sk-label-container\"><div class=\"sk-label sk-toggleable\"><input class=\"sk-toggleable__control sk-hidden--visually\" id=\"sk-estimator-id-5\" type=\"checkbox\" ><label for=\"sk-estimator-id-5\" class=\"sk-toggleable__label sk-toggleable__label-arrow\">label_encoder: ColumnTransformer</label><div class=\"sk-toggleable__content\"><pre>ColumnTransformer(transformers=[(&#x27;geo1_le&#x27;,\n",
              "                                 FunctionTransformer(feature_names_out=&#x27;one-to-one&#x27;,\n",
              "                                                     func=&lt;function &lt;lambda&gt; at 0x7f3fd238f400&gt;),\n",
              "                                 [&#x27;geo_level_1_id&#x27;]),\n",
              "                                (&#x27;geo2_le&#x27;,\n",
              "                                 FunctionTransformer(feature_names_out=&#x27;one-to-one&#x27;,\n",
              "                                                     func=&lt;function &lt;lambda&gt; at 0x7f3fd23e89d0&gt;),\n",
              "                                 [&#x27;geo_level_2_id&#x27;]),\n",
              "                                (&#x27;geo3_le&#x27;,\n",
              "                                 FunctionTransformer(feature_names_out=&#x27;one-to-one&#x27;,\n",
              "                                                     func=&lt;function &lt;lambda&gt; at 0x7f3fd23e8a60&gt;),\n",
              "                                 [&#x27;geo_level_3_id&#x27;])],\n",
              "                  verbose_feature_names_out=False)</pre></div></div></div><div class=\"sk-parallel\"><div class=\"sk-parallel-item\"><div class=\"sk-item\"><div class=\"sk-label-container\"><div class=\"sk-label sk-toggleable\"><input class=\"sk-toggleable__control sk-hidden--visually\" id=\"sk-estimator-id-6\" type=\"checkbox\" ><label for=\"sk-estimator-id-6\" class=\"sk-toggleable__label sk-toggleable__label-arrow\">geo1_le</label><div class=\"sk-toggleable__content\"><pre>[&#x27;geo_level_1_id&#x27;]</pre></div></div></div><div class=\"sk-serial\"><div class=\"sk-item\"><div class=\"sk-estimator sk-toggleable\"><input class=\"sk-toggleable__control sk-hidden--visually\" id=\"sk-estimator-id-7\" type=\"checkbox\" ><label for=\"sk-estimator-id-7\" class=\"sk-toggleable__label sk-toggleable__label-arrow\">FunctionTransformer</label><div class=\"sk-toggleable__content\"><pre>FunctionTransformer(feature_names_out=&#x27;one-to-one&#x27;,\n",
              "                    func=&lt;function &lt;lambda&gt; at 0x7f3fd238f400&gt;)</pre></div></div></div></div></div></div><div class=\"sk-parallel-item\"><div class=\"sk-item\"><div class=\"sk-label-container\"><div class=\"sk-label sk-toggleable\"><input class=\"sk-toggleable__control sk-hidden--visually\" id=\"sk-estimator-id-8\" type=\"checkbox\" ><label for=\"sk-estimator-id-8\" class=\"sk-toggleable__label sk-toggleable__label-arrow\">geo2_le</label><div class=\"sk-toggleable__content\"><pre>[&#x27;geo_level_2_id&#x27;]</pre></div></div></div><div class=\"sk-serial\"><div class=\"sk-item\"><div class=\"sk-estimator sk-toggleable\"><input class=\"sk-toggleable__control sk-hidden--visually\" id=\"sk-estimator-id-9\" type=\"checkbox\" ><label for=\"sk-estimator-id-9\" class=\"sk-toggleable__label sk-toggleable__label-arrow\">FunctionTransformer</label><div class=\"sk-toggleable__content\"><pre>FunctionTransformer(feature_names_out=&#x27;one-to-one&#x27;,\n",
              "                    func=&lt;function &lt;lambda&gt; at 0x7f3fd23e89d0&gt;)</pre></div></div></div></div></div></div><div class=\"sk-parallel-item\"><div class=\"sk-item\"><div class=\"sk-label-container\"><div class=\"sk-label sk-toggleable\"><input class=\"sk-toggleable__control sk-hidden--visually\" id=\"sk-estimator-id-10\" type=\"checkbox\" ><label for=\"sk-estimator-id-10\" class=\"sk-toggleable__label sk-toggleable__label-arrow\">geo3_le</label><div class=\"sk-toggleable__content\"><pre>[&#x27;geo_level_3_id&#x27;]</pre></div></div></div><div class=\"sk-serial\"><div class=\"sk-item\"><div class=\"sk-estimator sk-toggleable\"><input class=\"sk-toggleable__control sk-hidden--visually\" id=\"sk-estimator-id-11\" type=\"checkbox\" ><label for=\"sk-estimator-id-11\" class=\"sk-toggleable__label sk-toggleable__label-arrow\">FunctionTransformer</label><div class=\"sk-toggleable__content\"><pre>FunctionTransformer(feature_names_out=&#x27;one-to-one&#x27;,\n",
              "                    func=&lt;function &lt;lambda&gt; at 0x7f3fd23e8a60&gt;)</pre></div></div></div></div></div></div></div></div><div class=\"sk-item\"><div class=\"sk-estimator sk-toggleable\"><input class=\"sk-toggleable__control sk-hidden--visually\" id=\"sk-estimator-id-12\" type=\"checkbox\" ><label for=\"sk-estimator-id-12\" class=\"sk-toggleable__label sk-toggleable__label-arrow\">GeoDimensionReduction0</label><div class=\"sk-toggleable__content\"><pre>GeoDimensionReduction0(path=&#x27;/content/drive/MyDrive/earthquake/project-dr-16.pt&#x27;)</pre></div></div></div></div></div></div></div></div><div class=\"sk-parallel-item\"><div class=\"sk-item\"><div class=\"sk-label-container\"><div class=\"sk-label sk-toggleable\"><input class=\"sk-toggleable__control sk-hidden--visually\" id=\"sk-estimator-id-13\" type=\"checkbox\" ><label for=\"sk-estimator-id-13\" class=\"sk-toggleable__label sk-toggleable__label-arrow\">geo_unk</label><div class=\"sk-toggleable__content\"><pre>[&#x27;geo_level_1_id&#x27;, &#x27;geo_level_2_id&#x27;, &#x27;geo_level_3_id&#x27;]</pre></div></div></div><div class=\"sk-serial\"><div class=\"sk-item\"><div class=\"sk-estimator sk-toggleable\"><input class=\"sk-toggleable__control sk-hidden--visually\" id=\"sk-estimator-id-14\" type=\"checkbox\" ><label for=\"sk-estimator-id-14\" class=\"sk-toggleable__label sk-toggleable__label-arrow\">ThresholdReplacer</label><div class=\"sk-toggleable__content\"><pre>ThresholdReplacer(threshold=3)</pre></div></div></div></div></div></div><div class=\"sk-parallel-item\"><div class=\"sk-item\"><div class=\"sk-label-container\"><div class=\"sk-label sk-toggleable\"><input class=\"sk-toggleable__control sk-hidden--visually\" id=\"sk-estimator-id-15\" type=\"checkbox\" ><label for=\"sk-estimator-id-15\" class=\"sk-toggleable__label sk-toggleable__label-arrow\">remainder</label><div class=\"sk-toggleable__content\"><pre></pre></div></div></div><div class=\"sk-serial\"><div class=\"sk-item\"><div class=\"sk-estimator sk-toggleable\"><input class=\"sk-toggleable__control sk-hidden--visually\" id=\"sk-estimator-id-16\" type=\"checkbox\" ><label for=\"sk-estimator-id-16\" class=\"sk-toggleable__label sk-toggleable__label-arrow\">passthrough</label><div class=\"sk-toggleable__content\"><pre>passthrough</pre></div></div></div></div></div></div></div></div></div></div>"
            ]
          },
          "metadata": {},
          "execution_count": 8
        }
      ]
    },
    {
      "cell_type": "code",
      "source": [
        "X_train = preprocessor.fit_transform(features_df, labels_df)\n",
        "y_train = labels_df.to_numpy().squeeze()\n",
        "X_test = preprocessor.transform(test_features_df)"
      ],
      "metadata": {
        "colab": {
          "base_uri": "https://localhost:8080/"
        },
        "id": "lHxZYBmCPv41",
        "outputId": "1b2035c3-88d5-4e80-9e13-beaf31628a1c"
      },
      "execution_count": 9,
      "outputs": [
        {
          "output_type": "stream",
          "name": "stderr",
          "text": [
            "/usr/local/lib/python3.10/dist-packages/sklearn/preprocessing/_encoders.py:868: FutureWarning: `sparse` was renamed to `sparse_output` in version 1.2 and will be removed in 1.4. `sparse_output` is ignored unless you leave `sparse` to its default value.\n",
            "  warnings.warn(\n"
          ]
        }
      ]
    },
    {
      "cell_type": "markdown",
      "source": [
        "submission"
      ],
      "metadata": {
        "id": "mx-ioeoQQ98N"
      }
    },
    {
      "cell_type": "code",
      "source": [
        "from os import PathLike\n",
        "import pandas as pd\n",
        "\n",
        "\n",
        "def create_submission(predictions, submission_formats_path: PathLike):\n",
        "    submission_format = pd.read_csv(submission_formats_path, index_col=0)\n",
        "    submission = pd.DataFrame(data=predictions, columns=submission_format.columns, index=submission_format.index)\n",
        "    submission['damage_grade'] = submission['damage_grade'].astype(int)\n",
        "    return submission\n",
        "hyperparams = {\n",
        "    'booster': 'gbtree', 'colsample_bytree': 0.7000000000000001, \n",
        "    'eta': 0.025, 'eval_metric': 'auc', 'gamma': 0.9, 'max_depth': 11, \n",
        "    'min_child_weight': 6.0, 'n_estimators': 969, 'nthread': 6, \n",
        "    'seed': 42, 'subsample': 0.8, 'tree_method': 'gpu_hist'\n",
        "}\n",
        "\n",
        "xgb = XGBClassifier(**hyperparams, objective='multi:softmax')\n",
        "\n",
        "xgb.fit(\n",
        "    X=X_train, \n",
        "    y=y_train,  \n",
        "    verbose=0\n",
        ")\n",
        "\n",
        "submission = create_submission(xgb.predict(X_test) + 1, submission_formats_path=SUBMISSION_FORMAT_PATH)\n"
      ],
      "metadata": {
        "id": "tMEMbwunQ_sn"
      },
      "execution_count": 11,
      "outputs": []
    },
    {
      "cell_type": "code",
      "source": [
        "submission.to_csv('/content/drive/MyDrive/earthquake/pp11-1-xgb.csv')"
      ],
      "metadata": {
        "id": "KqqimrxQUn5n"
      },
      "execution_count": 13,
      "outputs": []
    }
  ]
}