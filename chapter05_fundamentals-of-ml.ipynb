{
  "cells": [
    {
      "cell_type": "markdown",
      "metadata": {
        "id": "vqp99fpH1Qst"
      },
      "source": [
        "This is a companion notebook for the book [Deep Learning with Python, Second Edition](https://www.manning.com/books/deep-learning-with-python-second-edition?a_aid=keras&a_bid=76564dff). For readability, it only contains runnable code blocks and section titles, and omits everything else in the book: text paragraphs, figures, and pseudocode.\n",
        "\n",
        "**If you want to be able to follow what's going on, I recommend reading the notebook side by side with your copy of the book.**\n",
        "\n",
        "This notebook was generated for TensorFlow 2.6."
      ]
    },
    {
      "cell_type": "markdown",
      "metadata": {
        "id": "x42y5ke31Qsx"
      },
      "source": [
        "# Fundamentals of machine learning"
      ]
    },
    {
      "cell_type": "markdown",
      "metadata": {
        "id": "peXmydKv1Qsz"
      },
      "source": [
        "## Generalization: The goal of machine learning"
      ]
    },
    {
      "cell_type": "markdown",
      "metadata": {
        "id": "UmflkC9j1Qsz"
      },
      "source": [
        "### Underfitting and overfitting"
      ]
    },
    {
      "cell_type": "markdown",
      "metadata": {
        "id": "H5n7xT4t1Qs0"
      },
      "source": [
        "#### Noisy training data"
      ]
    },
    {
      "cell_type": "markdown",
      "metadata": {
        "id": "LLDyLfkc1Qs0"
      },
      "source": [
        "#### Ambiguous features"
      ]
    },
    {
      "cell_type": "markdown",
      "metadata": {
        "id": "jYsf-VO61Qs1"
      },
      "source": [
        "#### Rare features and spurious correlations"
      ]
    },
    {
      "cell_type": "markdown",
      "metadata": {
        "id": "RoABqWWB1Qs1"
      },
      "source": [
        "**Adding white-noise channels or all-zeros channels to MNIST**"
      ]
    },
    {
      "cell_type": "code",
      "execution_count": 6,
      "metadata": {
        "id": "7y-Af3uR1Qs2"
      },
      "outputs": [],
      "source": [
        "from tensorflow.keras.datasets import mnist\n",
        "import numpy as np\n",
        "\n",
        "(train_images, train_labels), _ = mnist.load_data()\n",
        "train_images = train_images.reshape((60000, 28 * 28))\n",
        "train_images = train_images.astype(\"float32\") / 255\n",
        "\n",
        "train_images_with_noise_channels = np.concatenate(\n",
        "    [train_images, np.random.random((len(train_images), 784))], axis=1)\n",
        "\n",
        "train_images_with_zeros_channels = np.concatenate(\n",
        "    [train_images, np.zeros((len(train_images), 784))], axis=1)"
      ]
    },
    {
      "cell_type": "markdown",
      "metadata": {
        "id": "HiXCMZ1W1Qs3"
      },
      "source": [
        "**Training the same model on MNIST data with noise channels or all-zero channels**"
      ]
    },
    {
      "cell_type": "code",
      "execution_count": 21,
      "metadata": {
        "id": "o0d9zEOJ1Qs4",
        "outputId": "c2b6296e-237d-4ccb-e815-23a47987451a",
        "colab": {
          "base_uri": "https://localhost:8080/"
        }
      },
      "outputs": [
        {
          "output_type": "stream",
          "name": "stdout",
          "text": [
            "Epoch 1/10\n",
            "375/375 [==============================] - 2s 4ms/step - loss: 0.2914 - accuracy: 0.9150 - val_loss: 0.1545 - val_accuracy: 0.9568\n",
            "Epoch 2/10\n",
            "375/375 [==============================] - 1s 4ms/step - loss: 0.1223 - accuracy: 0.9638 - val_loss: 0.1042 - val_accuracy: 0.9688\n",
            "Epoch 3/10\n",
            "375/375 [==============================] - 2s 5ms/step - loss: 0.0799 - accuracy: 0.9764 - val_loss: 0.0960 - val_accuracy: 0.9715\n",
            "Epoch 4/10\n",
            "375/375 [==============================] - 1s 4ms/step - loss: 0.0579 - accuracy: 0.9830 - val_loss: 0.0820 - val_accuracy: 0.9757\n",
            "Epoch 5/10\n",
            "375/375 [==============================] - 1s 3ms/step - loss: 0.0436 - accuracy: 0.9868 - val_loss: 0.0799 - val_accuracy: 0.9759\n",
            "Epoch 6/10\n",
            "375/375 [==============================] - 1s 3ms/step - loss: 0.0322 - accuracy: 0.9906 - val_loss: 0.0735 - val_accuracy: 0.9783\n",
            "Epoch 7/10\n",
            "375/375 [==============================] - 1s 3ms/step - loss: 0.0254 - accuracy: 0.9927 - val_loss: 0.0768 - val_accuracy: 0.9788\n",
            "Epoch 8/10\n",
            "375/375 [==============================] - 2s 6ms/step - loss: 0.0189 - accuracy: 0.9951 - val_loss: 0.0765 - val_accuracy: 0.9795\n",
            "Epoch 9/10\n",
            "375/375 [==============================] - 1s 3ms/step - loss: 0.0147 - accuracy: 0.9960 - val_loss: 0.0787 - val_accuracy: 0.9790\n",
            "Epoch 10/10\n",
            "375/375 [==============================] - 1s 4ms/step - loss: 0.0108 - accuracy: 0.9974 - val_loss: 0.0741 - val_accuracy: 0.9793\n",
            "Epoch 1/10\n",
            "375/375 [==============================] - 3s 6ms/step - loss: 0.6220 - accuracy: 0.8095 - val_loss: 0.3348 - val_accuracy: 0.8961\n",
            "Epoch 2/10\n",
            "375/375 [==============================] - 2s 6ms/step - loss: 0.2525 - accuracy: 0.9212 - val_loss: 0.1894 - val_accuracy: 0.9457\n",
            "Epoch 3/10\n",
            "375/375 [==============================] - 2s 6ms/step - loss: 0.1629 - accuracy: 0.9498 - val_loss: 0.2135 - val_accuracy: 0.9316\n",
            "Epoch 4/10\n",
            "375/375 [==============================] - 2s 5ms/step - loss: 0.1146 - accuracy: 0.9643 - val_loss: 0.1364 - val_accuracy: 0.9588\n",
            "Epoch 5/10\n",
            "375/375 [==============================] - 2s 4ms/step - loss: 0.0845 - accuracy: 0.9738 - val_loss: 0.1403 - val_accuracy: 0.9579\n",
            "Epoch 6/10\n",
            "375/375 [==============================] - 1s 3ms/step - loss: 0.0614 - accuracy: 0.9800 - val_loss: 0.1183 - val_accuracy: 0.9663\n",
            "Epoch 7/10\n",
            "375/375 [==============================] - 1s 3ms/step - loss: 0.0452 - accuracy: 0.9857 - val_loss: 0.1210 - val_accuracy: 0.9662\n",
            "Epoch 8/10\n",
            "375/375 [==============================] - 1s 3ms/step - loss: 0.0344 - accuracy: 0.9888 - val_loss: 0.1214 - val_accuracy: 0.9669\n",
            "Epoch 9/10\n",
            "375/375 [==============================] - 1s 3ms/step - loss: 0.0242 - accuracy: 0.9928 - val_loss: 0.1367 - val_accuracy: 0.9655\n",
            "Epoch 10/10\n",
            "375/375 [==============================] - 1s 3ms/step - loss: 0.0177 - accuracy: 0.9942 - val_loss: 0.1341 - val_accuracy: 0.9657\n",
            "Epoch 1/10\n",
            "375/375 [==============================] - 2s 4ms/step - loss: 0.2944 - accuracy: 0.9156 - val_loss: 0.1506 - val_accuracy: 0.9567\n",
            "Epoch 2/10\n",
            "375/375 [==============================] - 1s 3ms/step - loss: 0.1201 - accuracy: 0.9649 - val_loss: 0.1032 - val_accuracy: 0.9698\n",
            "Epoch 3/10\n",
            "375/375 [==============================] - 1s 3ms/step - loss: 0.0792 - accuracy: 0.9774 - val_loss: 0.0928 - val_accuracy: 0.9715\n",
            "Epoch 4/10\n",
            "375/375 [==============================] - 2s 5ms/step - loss: 0.0567 - accuracy: 0.9838 - val_loss: 0.0766 - val_accuracy: 0.9766\n",
            "Epoch 5/10\n",
            "375/375 [==============================] - 2s 4ms/step - loss: 0.0417 - accuracy: 0.9877 - val_loss: 0.0755 - val_accuracy: 0.9777\n",
            "Epoch 6/10\n",
            "375/375 [==============================] - 3s 7ms/step - loss: 0.0317 - accuracy: 0.9908 - val_loss: 0.0744 - val_accuracy: 0.9790\n",
            "Epoch 7/10\n",
            "375/375 [==============================] - 1s 4ms/step - loss: 0.0235 - accuracy: 0.9935 - val_loss: 0.0812 - val_accuracy: 0.9775\n",
            "Epoch 8/10\n",
            "375/375 [==============================] - 1s 3ms/step - loss: 0.0176 - accuracy: 0.9953 - val_loss: 0.0795 - val_accuracy: 0.9779\n",
            "Epoch 9/10\n",
            "375/375 [==============================] - 1s 3ms/step - loss: 0.0129 - accuracy: 0.9968 - val_loss: 0.0782 - val_accuracy: 0.9798\n",
            "Epoch 10/10\n",
            "375/375 [==============================] - 1s 3ms/step - loss: 0.0102 - accuracy: 0.9976 - val_loss: 0.0870 - val_accuracy: 0.9784\n"
          ]
        }
      ],
      "source": [
        "from tensorflow import keras\n",
        "from tensorflow.keras import layers\n",
        "\n",
        "def get_model():\n",
        "    model = keras.Sequential([\n",
        "        layers.Dense(512, activation=\"relu\"),\n",
        "        layers.Dense(10, activation=\"softmax\")\n",
        "    ])\n",
        "    model.compile(optimizer=\"rmsprop\",\n",
        "                  loss=\"sparse_categorical_crossentropy\",\n",
        "                  metrics=[\"accuracy\"])\n",
        "    return model\n",
        "\n",
        "model = get_model()\n",
        "history_zeros = model.fit(\n",
        "    train_images_with_zeros_channels, train_labels,\n",
        "    epochs=10,\n",
        "    batch_size=128,\n",
        "    validation_split=0.2)\n",
        "\n",
        "model = get_model()\n",
        "history_noise = model.fit(\n",
        "    train_images_with_noise_channels, train_labels,\n",
        "    epochs=10,\n",
        "    batch_size=128,\n",
        "    validation_split=0.2)\n",
        "\n",
        "model = get_model()\n",
        "history_original = model.fit(\n",
        "    train_images, train_labels,\n",
        "    epochs=10,\n",
        "    batch_size=128,\n",
        "    validation_split=0.2)\n",
        "\n"
      ]
    },
    {
      "cell_type": "code",
      "source": [],
      "metadata": {
        "id": "En9m7ETX1s6V"
      },
      "execution_count": null,
      "outputs": []
    },
    {
      "cell_type": "markdown",
      "metadata": {
        "id": "7T4HK2cj1Qs5"
      },
      "source": [
        "**Plotting a validation accuracy comparison**"
      ]
    },
    {
      "cell_type": "code",
      "execution_count": 29,
      "metadata": {
        "id": "v1fSc9SC1Qs5",
        "outputId": "39ad14d7-b032-47d8-c485-a30484e2c5ef",
        "colab": {
          "base_uri": "https://localhost:8080/",
          "height": 490
        }
      },
      "outputs": [
        {
          "output_type": "execute_result",
          "data": {
            "text/plain": [
              "<matplotlib.legend.Legend at 0x7f7166033a90>"
            ]
          },
          "metadata": {},
          "execution_count": 29
        },
        {
          "output_type": "display_data",
          "data": {
            "text/plain": [
              "<Figure size 640x480 with 1 Axes>"
            ],
            "image/png": "[encoded data removed]"
          },
          "metadata": {}
        }
      ],
      "source": [
        "import matplotlib.pyplot as plt\n",
        "val_acc_noise = history_noise.history[\"val_accuracy\"]\n",
        "val_acc_zeros = history_zeros.history[\"val_accuracy\"]\n",
        "val_acc_original = history_original.history[\"val_accuracy\"]\n",
        "epochs = range(1, 11)\n",
        "plt.plot(epochs, val_acc_noise, \"b-\",\n",
        "         label=\"Validation accuracy with noise channels\")\n",
        "plt.plot(epochs, val_acc_zeros, \"b--\",\n",
        "         label=\"Validation accuracy with zeros channels\")\n",
        "plt.plot(epochs, val_acc_original, \"r--\",\n",
        "         label=\"Validation accuracy with original data\")\n",
        "plt.title(\"Effect of noise channels on validation accuracy\")\n",
        "plt.xlabel(\"Epochs\")\n",
        "plt.ylabel(\"Accuracy\")\n",
        "plt.legend()"
      ]
    },
    {
      "cell_type": "markdown",
      "metadata": {
        "id": "LSQBlrAx1Qs6"
      },
      "source": [
        "### The nature of generalization in deep learning"
      ]
    },
    {
      "cell_type": "markdown",
      "metadata": {
        "id": "4tVhqkld1Qs6"
      },
      "source": [
        "**Fitting a MNIST model with randomly shuffled labels**"
      ]
    },
    {
      "cell_type": "code",
      "execution_count": 36,
      "metadata": {
        "id": "SJdLxq-Q1Qs7",
        "outputId": "f82d6d94-7769-4d75-bc12-f544b8ff2a85",
        "colab": {
          "base_uri": "https://localhost:8080/"
        }
      },
      "outputs": [
        {
          "output_type": "stream",
          "name": "stdout",
          "text": [
            "Epoch 1/100\n",
            "375/375 [==============================] - 2s 5ms/step - loss: 2.3152 - accuracy: 0.1034 - val_loss: 2.3052 - val_accuracy: 0.1088\n",
            "Epoch 2/100\n",
            "375/375 [==============================] - 1s 3ms/step - loss: 2.2989 - accuracy: 0.1180 - val_loss: 2.3133 - val_accuracy: 0.1022\n",
            "Epoch 3/100\n",
            "375/375 [==============================] - 1s 3ms/step - loss: 2.2912 - accuracy: 0.1254 - val_loss: 2.3175 - val_accuracy: 0.1004\n",
            "Epoch 4/100\n",
            "375/375 [==============================] - 1s 4ms/step - loss: 2.2785 - accuracy: 0.1392 - val_loss: 2.3285 - val_accuracy: 0.1006\n",
            "Epoch 5/100\n",
            "375/375 [==============================] - 2s 5ms/step - loss: 2.2621 - accuracy: 0.1521 - val_loss: 2.3362 - val_accuracy: 0.1000\n",
            "Epoch 6/100\n",
            "375/375 [==============================] - 1s 3ms/step - loss: 2.2429 - accuracy: 0.1633 - val_loss: 2.3496 - val_accuracy: 0.0987\n",
            "Epoch 7/100\n",
            "375/375 [==============================] - 1s 3ms/step - loss: 2.2198 - accuracy: 0.1788 - val_loss: 2.3600 - val_accuracy: 0.1037\n",
            "Epoch 8/100\n",
            "375/375 [==============================] - 1s 4ms/step - loss: 2.1914 - accuracy: 0.1951 - val_loss: 2.3841 - val_accuracy: 0.1003\n",
            "Epoch 9/100\n",
            "375/375 [==============================] - 1s 3ms/step - loss: 2.1617 - accuracy: 0.2107 - val_loss: 2.3984 - val_accuracy: 0.1019\n",
            "Epoch 10/100\n",
            "375/375 [==============================] - 1s 3ms/step - loss: 2.1291 - accuracy: 0.2299 - val_loss: 2.4174 - val_accuracy: 0.0995\n",
            "Epoch 11/100\n",
            "375/375 [==============================] - 1s 3ms/step - loss: 2.0943 - accuracy: 0.2466 - val_loss: 2.4483 - val_accuracy: 0.1023\n",
            "Epoch 12/100\n",
            "375/375 [==============================] - 1s 3ms/step - loss: 2.0577 - accuracy: 0.2622 - val_loss: 2.4783 - val_accuracy: 0.1037\n",
            "Epoch 13/100\n",
            "375/375 [==============================] - 1s 4ms/step - loss: 2.0205 - accuracy: 0.2774 - val_loss: 2.4943 - val_accuracy: 0.0993\n",
            "Epoch 14/100\n",
            "375/375 [==============================] - 2s 5ms/step - loss: 1.9822 - accuracy: 0.2942 - val_loss: 2.5359 - val_accuracy: 0.1013\n",
            "Epoch 15/100\n",
            "375/375 [==============================] - 1s 4ms/step - loss: 1.9438 - accuracy: 0.3139 - val_loss: 2.5726 - val_accuracy: 0.1022\n",
            "Epoch 16/100\n",
            "375/375 [==============================] - 1s 3ms/step - loss: 1.9039 - accuracy: 0.3289 - val_loss: 2.5985 - val_accuracy: 0.1020\n",
            "Epoch 17/100\n",
            "375/375 [==============================] - 1s 3ms/step - loss: 1.8659 - accuracy: 0.3449 - val_loss: 2.6360 - val_accuracy: 0.1026\n",
            "Epoch 18/100\n",
            "375/375 [==============================] - 1s 3ms/step - loss: 1.8252 - accuracy: 0.3618 - val_loss: 2.6711 - val_accuracy: 0.1004\n",
            "Epoch 19/100\n",
            "375/375 [==============================] - 1s 3ms/step - loss: 1.7862 - accuracy: 0.3794 - val_loss: 2.7225 - val_accuracy: 0.1009\n",
            "Epoch 20/100\n",
            "375/375 [==============================] - 1s 3ms/step - loss: 1.7488 - accuracy: 0.3935 - val_loss: 2.7425 - val_accuracy: 0.1036\n",
            "Epoch 21/100\n",
            "375/375 [==============================] - 1s 3ms/step - loss: 1.7088 - accuracy: 0.4078 - val_loss: 2.8036 - val_accuracy: 0.1033\n",
            "Epoch 22/100\n",
            "375/375 [==============================] - 2s 5ms/step - loss: 1.6742 - accuracy: 0.4224 - val_loss: 2.8555 - val_accuracy: 0.1040\n",
            "Epoch 23/100\n",
            "375/375 [==============================] - 2s 6ms/step - loss: 1.6365 - accuracy: 0.4379 - val_loss: 2.8927 - val_accuracy: 0.1010\n",
            "Epoch 24/100\n",
            "375/375 [==============================] - 2s 6ms/step - loss: 1.5999 - accuracy: 0.4516 - val_loss: 2.9321 - val_accuracy: 0.1071\n",
            "Epoch 25/100\n",
            "375/375 [==============================] - 2s 6ms/step - loss: 1.5670 - accuracy: 0.4639 - val_loss: 2.9799 - val_accuracy: 0.1032\n",
            "Epoch 26/100\n",
            "375/375 [==============================] - 2s 4ms/step - loss: 1.5340 - accuracy: 0.4763 - val_loss: 3.0195 - val_accuracy: 0.1056\n",
            "Epoch 27/100\n",
            "375/375 [==============================] - 2s 5ms/step - loss: 1.4987 - accuracy: 0.4877 - val_loss: 3.1016 - val_accuracy: 0.1045\n",
            "Epoch 28/100\n",
            "375/375 [==============================] - 1s 3ms/step - loss: 1.4672 - accuracy: 0.5017 - val_loss: 3.1518 - val_accuracy: 0.1021\n",
            "Epoch 29/100\n",
            "375/375 [==============================] - 2s 5ms/step - loss: 1.4336 - accuracy: 0.5139 - val_loss: 3.1777 - val_accuracy: 0.0988\n",
            "Epoch 30/100\n",
            "375/375 [==============================] - 3s 7ms/step - loss: 1.4043 - accuracy: 0.5237 - val_loss: 3.2273 - val_accuracy: 0.1001\n",
            "Epoch 31/100\n",
            "375/375 [==============================] - 2s 5ms/step - loss: 1.3726 - accuracy: 0.5359 - val_loss: 3.2971 - val_accuracy: 0.1035\n",
            "Epoch 32/100\n",
            "375/375 [==============================] - 2s 5ms/step - loss: 1.3450 - accuracy: 0.5454 - val_loss: 3.3387 - val_accuracy: 0.1035\n",
            "Epoch 33/100\n",
            "375/375 [==============================] - 1s 4ms/step - loss: 1.3141 - accuracy: 0.5553 - val_loss: 3.3836 - val_accuracy: 0.1017\n",
            "Epoch 34/100\n",
            "375/375 [==============================] - 2s 5ms/step - loss: 1.2861 - accuracy: 0.5697 - val_loss: 3.4275 - val_accuracy: 0.1030\n",
            "Epoch 35/100\n",
            "375/375 [==============================] - 2s 5ms/step - loss: 1.2609 - accuracy: 0.5768 - val_loss: 3.5006 - val_accuracy: 0.1017\n",
            "Epoch 36/100\n",
            "375/375 [==============================] - 2s 6ms/step - loss: 1.2338 - accuracy: 0.5847 - val_loss: 3.5417 - val_accuracy: 0.1030\n",
            "Epoch 37/100\n",
            "375/375 [==============================] - 2s 5ms/step - loss: 1.2074 - accuracy: 0.5957 - val_loss: 3.6221 - val_accuracy: 0.1016\n",
            "Epoch 38/100\n",
            "375/375 [==============================] - 2s 5ms/step - loss: 1.1823 - accuracy: 0.6043 - val_loss: 3.6410 - val_accuracy: 0.1007\n",
            "Epoch 39/100\n",
            "375/375 [==============================] - 2s 5ms/step - loss: 1.1550 - accuracy: 0.6127 - val_loss: 3.7254 - val_accuracy: 0.0983\n",
            "Epoch 40/100\n",
            "375/375 [==============================] - 2s 6ms/step - loss: 1.1328 - accuracy: 0.6212 - val_loss: 3.7795 - val_accuracy: 0.1049\n",
            "Epoch 41/100\n",
            "375/375 [==============================] - 2s 4ms/step - loss: 1.1066 - accuracy: 0.6316 - val_loss: 3.8216 - val_accuracy: 0.1020\n",
            "Epoch 42/100\n",
            "375/375 [==============================] - 2s 6ms/step - loss: 1.0851 - accuracy: 0.6393 - val_loss: 3.8964 - val_accuracy: 0.1020\n",
            "Epoch 43/100\n",
            "375/375 [==============================] - 2s 5ms/step - loss: 1.0636 - accuracy: 0.6461 - val_loss: 3.9661 - val_accuracy: 0.1042\n",
            "Epoch 44/100\n",
            "375/375 [==============================] - 2s 4ms/step - loss: 1.0408 - accuracy: 0.6549 - val_loss: 4.0178 - val_accuracy: 0.1030\n",
            "Epoch 45/100\n",
            "375/375 [==============================] - 1s 3ms/step - loss: 1.0208 - accuracy: 0.6628 - val_loss: 4.0778 - val_accuracy: 0.1022\n",
            "Epoch 46/100\n",
            "375/375 [==============================] - 1s 3ms/step - loss: 0.9974 - accuracy: 0.6711 - val_loss: 4.1726 - val_accuracy: 0.1002\n",
            "Epoch 47/100\n",
            "375/375 [==============================] - 1s 4ms/step - loss: 0.9772 - accuracy: 0.6771 - val_loss: 4.2108 - val_accuracy: 0.1032\n",
            "Epoch 48/100\n",
            "375/375 [==============================] - 1s 4ms/step - loss: 0.9561 - accuracy: 0.6834 - val_loss: 4.2487 - val_accuracy: 0.1010\n",
            "Epoch 49/100\n",
            "375/375 [==============================] - 2s 6ms/step - loss: 0.9374 - accuracy: 0.6902 - val_loss: 4.3279 - val_accuracy: 0.1053\n",
            "Epoch 50/100\n",
            "375/375 [==============================] - 2s 7ms/step - loss: 0.9205 - accuracy: 0.6970 - val_loss: 4.4106 - val_accuracy: 0.1027\n",
            "Epoch 51/100\n",
            "375/375 [==============================] - 2s 5ms/step - loss: 0.8980 - accuracy: 0.7067 - val_loss: 4.4879 - val_accuracy: 0.1000\n",
            "Epoch 52/100\n",
            "375/375 [==============================] - 1s 3ms/step - loss: 0.8823 - accuracy: 0.7100 - val_loss: 4.5636 - val_accuracy: 0.1020\n",
            "Epoch 53/100\n",
            "375/375 [==============================] - 1s 4ms/step - loss: 0.8642 - accuracy: 0.7165 - val_loss: 4.6243 - val_accuracy: 0.1003\n",
            "Epoch 54/100\n",
            "375/375 [==============================] - 1s 3ms/step - loss: 0.8461 - accuracy: 0.7234 - val_loss: 4.6563 - val_accuracy: 0.1025\n",
            "Epoch 55/100\n",
            "375/375 [==============================] - 1s 3ms/step - loss: 0.8292 - accuracy: 0.7294 - val_loss: 4.7071 - val_accuracy: 0.1039\n",
            "Epoch 56/100\n",
            "375/375 [==============================] - 1s 3ms/step - loss: 0.8134 - accuracy: 0.7330 - val_loss: 4.7944 - val_accuracy: 0.1012\n",
            "Epoch 57/100\n",
            "375/375 [==============================] - 1s 3ms/step - loss: 0.7968 - accuracy: 0.7404 - val_loss: 4.8493 - val_accuracy: 0.1009\n",
            "Epoch 58/100\n",
            "375/375 [==============================] - 2s 4ms/step - loss: 0.7786 - accuracy: 0.7483 - val_loss: 4.9139 - val_accuracy: 0.1016\n",
            "Epoch 59/100\n",
            "375/375 [==============================] - 2s 4ms/step - loss: 0.7623 - accuracy: 0.7537 - val_loss: 5.0144 - val_accuracy: 0.1009\n",
            "Epoch 60/100\n",
            "375/375 [==============================] - 1s 3ms/step - loss: 0.7504 - accuracy: 0.7581 - val_loss: 5.0736 - val_accuracy: 0.1051\n",
            "Epoch 61/100\n",
            "375/375 [==============================] - 2s 4ms/step - loss: 0.7333 - accuracy: 0.7650 - val_loss: 5.1524 - val_accuracy: 0.1017\n",
            "Epoch 62/100\n",
            "375/375 [==============================] - 1s 3ms/step - loss: 0.7194 - accuracy: 0.7672 - val_loss: 5.1645 - val_accuracy: 0.1042\n",
            "Epoch 63/100\n",
            "375/375 [==============================] - 1s 3ms/step - loss: 0.7053 - accuracy: 0.7719 - val_loss: 5.2337 - val_accuracy: 0.1063\n",
            "Epoch 64/100\n",
            "375/375 [==============================] - 1s 4ms/step - loss: 0.6942 - accuracy: 0.7751 - val_loss: 5.3374 - val_accuracy: 0.1047\n",
            "Epoch 65/100\n",
            "375/375 [==============================] - 1s 4ms/step - loss: 0.6768 - accuracy: 0.7827 - val_loss: 5.4100 - val_accuracy: 0.1032\n",
            "Epoch 66/100\n",
            "375/375 [==============================] - 2s 4ms/step - loss: 0.6662 - accuracy: 0.7850 - val_loss: 5.5091 - val_accuracy: 0.1022\n",
            "Epoch 67/100\n",
            "375/375 [==============================] - 3s 8ms/step - loss: 0.6529 - accuracy: 0.7908 - val_loss: 5.5753 - val_accuracy: 0.1047\n",
            "Epoch 68/100\n",
            "375/375 [==============================] - 1s 4ms/step - loss: 0.6405 - accuracy: 0.7953 - val_loss: 5.5827 - val_accuracy: 0.1043\n",
            "Epoch 69/100\n",
            "375/375 [==============================] - 2s 5ms/step - loss: 0.6257 - accuracy: 0.7998 - val_loss: 5.6654 - val_accuracy: 0.1042\n",
            "Epoch 70/100\n",
            "375/375 [==============================] - 1s 4ms/step - loss: 0.6160 - accuracy: 0.8048 - val_loss: 5.7794 - val_accuracy: 0.1028\n",
            "Epoch 71/100\n",
            "375/375 [==============================] - 1s 4ms/step - loss: 0.6040 - accuracy: 0.8067 - val_loss: 5.8387 - val_accuracy: 0.1058\n",
            "Epoch 72/100\n",
            "375/375 [==============================] - 1s 3ms/step - loss: 0.5936 - accuracy: 0.8097 - val_loss: 5.9016 - val_accuracy: 0.1037\n",
            "Epoch 73/100\n",
            "375/375 [==============================] - 1s 4ms/step - loss: 0.5808 - accuracy: 0.8135 - val_loss: 5.9500 - val_accuracy: 0.1005\n",
            "Epoch 74/100\n",
            "375/375 [==============================] - 2s 5ms/step - loss: 0.5702 - accuracy: 0.8181 - val_loss: 6.0829 - val_accuracy: 0.0989\n",
            "Epoch 75/100\n",
            "375/375 [==============================] - 2s 5ms/step - loss: 0.5582 - accuracy: 0.8217 - val_loss: 6.1140 - val_accuracy: 0.1049\n",
            "Epoch 76/100\n",
            "375/375 [==============================] - 1s 4ms/step - loss: 0.5460 - accuracy: 0.8258 - val_loss: 6.1587 - val_accuracy: 0.1022\n",
            "Epoch 77/100\n",
            "375/375 [==============================] - 2s 4ms/step - loss: 0.5365 - accuracy: 0.8300 - val_loss: 6.2557 - val_accuracy: 0.1041\n",
            "Epoch 78/100\n",
            "375/375 [==============================] - 1s 3ms/step - loss: 0.5288 - accuracy: 0.8324 - val_loss: 6.3259 - val_accuracy: 0.1051\n",
            "Epoch 79/100\n",
            "375/375 [==============================] - 2s 4ms/step - loss: 0.5170 - accuracy: 0.8359 - val_loss: 6.4056 - val_accuracy: 0.1037\n",
            "Epoch 80/100\n",
            "375/375 [==============================] - 2s 4ms/step - loss: 0.5073 - accuracy: 0.8397 - val_loss: 6.4696 - val_accuracy: 0.1055\n",
            "Epoch 81/100\n",
            "375/375 [==============================] - 1s 4ms/step - loss: 0.5002 - accuracy: 0.8415 - val_loss: 6.5595 - val_accuracy: 0.1061\n",
            "Epoch 82/100\n",
            "375/375 [==============================] - 1s 4ms/step - loss: 0.4892 - accuracy: 0.8455 - val_loss: 6.6004 - val_accuracy: 0.1024\n",
            "Epoch 83/100\n",
            "375/375 [==============================] - 2s 6ms/step - loss: 0.4802 - accuracy: 0.8467 - val_loss: 6.7018 - val_accuracy: 0.1013\n",
            "Epoch 84/100\n",
            "375/375 [==============================] - 1s 4ms/step - loss: 0.4713 - accuracy: 0.8544 - val_loss: 6.8018 - val_accuracy: 0.1028\n",
            "Epoch 85/100\n",
            "375/375 [==============================] - 1s 3ms/step - loss: 0.4621 - accuracy: 0.8554 - val_loss: 6.8123 - val_accuracy: 0.1047\n",
            "Epoch 86/100\n",
            "375/375 [==============================] - 1s 3ms/step - loss: 0.4527 - accuracy: 0.8590 - val_loss: 6.9582 - val_accuracy: 0.1018\n",
            "Epoch 87/100\n",
            "375/375 [==============================] - 1s 3ms/step - loss: 0.4457 - accuracy: 0.8599 - val_loss: 7.0021 - val_accuracy: 0.1034\n",
            "Epoch 88/100\n",
            "375/375 [==============================] - 1s 4ms/step - loss: 0.4370 - accuracy: 0.8631 - val_loss: 7.0110 - val_accuracy: 0.1044\n",
            "Epoch 89/100\n",
            "375/375 [==============================] - 1s 4ms/step - loss: 0.4280 - accuracy: 0.8643 - val_loss: 7.1250 - val_accuracy: 0.1041\n",
            "Epoch 90/100\n",
            "375/375 [==============================] - 1s 4ms/step - loss: 0.4200 - accuracy: 0.8689 - val_loss: 7.1947 - val_accuracy: 0.1038\n",
            "Epoch 91/100\n",
            "375/375 [==============================] - 2s 6ms/step - loss: 0.4135 - accuracy: 0.8709 - val_loss: 7.2810 - val_accuracy: 0.1023\n",
            "Epoch 92/100\n",
            "375/375 [==============================] - 2s 5ms/step - loss: 0.4065 - accuracy: 0.8742 - val_loss: 7.3164 - val_accuracy: 0.1057\n",
            "Epoch 93/100\n",
            "375/375 [==============================] - 1s 4ms/step - loss: 0.4002 - accuracy: 0.8766 - val_loss: 7.4744 - val_accuracy: 0.1041\n",
            "Epoch 94/100\n",
            "375/375 [==============================] - 1s 3ms/step - loss: 0.3916 - accuracy: 0.8799 - val_loss: 7.5416 - val_accuracy: 0.1006\n",
            "Epoch 95/100\n",
            "375/375 [==============================] - 1s 3ms/step - loss: 0.3836 - accuracy: 0.8817 - val_loss: 7.5695 - val_accuracy: 0.1047\n",
            "Epoch 96/100\n",
            "375/375 [==============================] - 1s 3ms/step - loss: 0.3766 - accuracy: 0.8838 - val_loss: 7.6526 - val_accuracy: 0.1060\n",
            "Epoch 97/100\n",
            "375/375 [==============================] - 1s 4ms/step - loss: 0.3727 - accuracy: 0.8845 - val_loss: 7.7038 - val_accuracy: 0.1065\n",
            "Epoch 98/100\n",
            "375/375 [==============================] - 1s 4ms/step - loss: 0.3645 - accuracy: 0.8882 - val_loss: 7.7552 - val_accuracy: 0.1034\n",
            "Epoch 99/100\n",
            "375/375 [==============================] - 1s 3ms/step - loss: 0.3580 - accuracy: 0.8909 - val_loss: 7.8919 - val_accuracy: 0.1045\n",
            "Epoch 100/100\n",
            "375/375 [==============================] - 2s 4ms/step - loss: 0.3498 - accuracy: 0.8936 - val_loss: 7.9400 - val_accuracy: 0.1030\n"
          ]
        }
      ],
      "source": [
        "(train_images, train_labels), _ = mnist.load_data()\n",
        "train_images = train_images.reshape((60000, 28 * 28))\n",
        "train_images = train_images.astype(\"float32\") / 255\n",
        "\n",
        "random_train_labels = train_labels[:]\n",
        "np.random.shuffle(random_train_labels)\n",
        "\n",
        "model = keras.Sequential([\n",
        "    layers.Dense(512, activation=\"relu\"),\n",
        "    layers.Dense(10, activation=\"softmax\")\n",
        "])\n",
        "model.compile(optimizer=\"rmsprop\",\n",
        "              loss=\"sparse_categorical_crossentropy\",\n",
        "              metrics=[\"accuracy\"])\n",
        "history=model.fit(train_images, random_train_labels,\n",
        "          epochs=100,\n",
        "          batch_size=128,\n",
        "          validation_split=0.2)"
      ]
    },
    {
      "cell_type": "code",
      "source": [
        "#1-2\n",
        "plt.plot(history.history['accuracy'])\n",
        "plt.plot(history.history['val_accuracy'])\n",
        "plt.title('Model accuracy')\n",
        "plt.xlabel('Epoch')\n",
        "plt.ylabel('Accuracy')\n",
        "plt.legend(['Train', 'Validation'], loc='upper left')\n",
        "plt.show()\n"
      ],
      "metadata": {
        "id": "XpWm6WBU7muY",
        "outputId": "97765e5a-edad-41d4-9174-1c84a721fd52",
        "colab": {
          "base_uri": "https://localhost:8080/",
          "height": 472
        }
      },
      "execution_count": 40,
      "outputs": [
        {
          "output_type": "display_data",
          "data": {
            "text/plain": [
              "<Figure size 640x480 with 1 Axes>"
            ],
            "image/png": "[encoded data removed]"
          },
          "metadata": {}
        }
      ]
    },
    {
      "cell_type": "markdown",
      "metadata": {
        "id": "Od_FVwdv1Qs7"
      },
      "source": [
        "#### The manifold hypothesis"
      ]
    },
    {
      "cell_type": "markdown",
      "metadata": {
        "id": "zb5LgBn41Qs8"
      },
      "source": [
        "#### Interpolation as a source of generalization"
      ]
    },
    {
      "cell_type": "markdown",
      "metadata": {
        "id": "WxHOwrio1Qs8"
      },
      "source": [
        "#### Why deep learning works"
      ]
    },
    {
      "cell_type": "markdown",
      "metadata": {
        "id": "1MZaMCcl1Qs8"
      },
      "source": [
        "#### Training data is paramount"
      ]
    },
    {
      "cell_type": "markdown",
      "metadata": {
        "id": "Ya_6buQ91Qs9"
      },
      "source": [
        "## Evaluating machine-learning models"
      ]
    },
    {
      "cell_type": "markdown",
      "metadata": {
        "id": "R6azau-R1Qs9"
      },
      "source": [
        "### Training, validation, and test sets"
      ]
    },
    {
      "cell_type": "markdown",
      "metadata": {
        "id": "hmjz1AFA1Qs9"
      },
      "source": [
        "#### Simple hold-out validation"
      ]
    },
    {
      "cell_type": "markdown",
      "metadata": {
        "id": "9MKy058T1Qs9"
      },
      "source": [
        "#### K-fold validation"
      ]
    },
    {
      "cell_type": "markdown",
      "metadata": {
        "id": "qz00fStN1Qs-"
      },
      "source": [
        "#### Iterated K-fold validation with shuffling"
      ]
    },
    {
      "cell_type": "markdown",
      "metadata": {
        "id": "GhNv-Rl01Qs-"
      },
      "source": [
        "### Beating a common-sense baseline"
      ]
    },
    {
      "cell_type": "markdown",
      "metadata": {
        "id": "dwW4OnrV1Qs-"
      },
      "source": [
        "### Things to keep in mind about model evaluation"
      ]
    },
    {
      "cell_type": "markdown",
      "metadata": {
        "id": "JSMtvH7Z1Qs_"
      },
      "source": [
        "## Improving model fit"
      ]
    },
    {
      "cell_type": "markdown",
      "metadata": {
        "id": "KtfcjQMc1Qs_"
      },
      "source": [
        "### Tuning key gradient descent parameters"
      ]
    },
    {
      "cell_type": "markdown",
      "metadata": {
        "id": "-mitPLG81Qs_"
      },
      "source": [
        "**Training a MNIST model with an incorrectly high learning rate**"
      ]
    },
    {
      "cell_type": "code",
      "execution_count": 31,
      "metadata": {
        "id": "651zxmKm1Qs_",
        "outputId": "08adc5e8-06bb-46b2-abbc-f7b82cfb058c",
        "colab": {
          "base_uri": "https://localhost:8080/"
        }
      },
      "outputs": [
        {
          "output_type": "stream",
          "name": "stdout",
          "text": [
            "Epoch 1/10\n",
            "375/375 [==============================] - 2s 4ms/step - loss: 650.6528 - accuracy: 0.3134 - val_loss: 3.5595 - val_accuracy: 0.2071\n",
            "Epoch 2/10\n",
            "375/375 [==============================] - 2s 4ms/step - loss: 3.0001 - accuracy: 0.2163 - val_loss: 2.1481 - val_accuracy: 0.2817\n",
            "Epoch 3/10\n",
            "375/375 [==============================] - 1s 4ms/step - loss: 2.4494 - accuracy: 0.2086 - val_loss: 2.2968 - val_accuracy: 0.1915\n",
            "Epoch 4/10\n",
            "375/375 [==============================] - 1s 4ms/step - loss: 2.5626 - accuracy: 0.1771 - val_loss: 2.3610 - val_accuracy: 0.2083\n",
            "Epoch 5/10\n",
            "375/375 [==============================] - 1s 3ms/step - loss: 2.3471 - accuracy: 0.1926 - val_loss: 5.2349 - val_accuracy: 0.1871\n",
            "Epoch 6/10\n",
            "375/375 [==============================] - 1s 3ms/step - loss: 2.2436 - accuracy: 0.1877 - val_loss: 2.2619 - val_accuracy: 0.1875\n",
            "Epoch 7/10\n",
            "375/375 [==============================] - 1s 3ms/step - loss: 2.3378 - accuracy: 0.1831 - val_loss: 2.2367 - val_accuracy: 0.1767\n",
            "Epoch 8/10\n",
            "375/375 [==============================] - 1s 3ms/step - loss: 2.3903 - accuracy: 0.1804 - val_loss: 2.3245 - val_accuracy: 0.1688\n",
            "Epoch 9/10\n",
            "375/375 [==============================] - 1s 3ms/step - loss: 2.3654 - accuracy: 0.1884 - val_loss: 2.3611 - val_accuracy: 0.1930\n",
            "Epoch 10/10\n",
            "375/375 [==============================] - 1s 3ms/step - loss: 2.4445 - accuracy: 0.1955 - val_loss: 2.2706 - val_accuracy: 0.1947\n"
          ]
        },
        {
          "output_type": "execute_result",
          "data": {
            "text/plain": [
              "<keras.callbacks.History at 0x7f7165e32df0>"
            ]
          },
          "metadata": {},
          "execution_count": 31
        }
      ],
      "source": [
        "(train_images, train_labels), _ = mnist.load_data()\n",
        "train_images = train_images.reshape((60000, 28 * 28))\n",
        "train_images = train_images.astype(\"float32\") / 255\n",
        "\n",
        "model = keras.Sequential([\n",
        "    layers.Dense(512, activation=\"relu\"),\n",
        "    layers.Dense(10, activation=\"softmax\")\n",
        "])\n",
        "model.compile(optimizer=keras.optimizers.RMSprop(1.),\n",
        "              loss=\"sparse_categorical_crossentropy\",\n",
        "              metrics=[\"accuracy\"])\n",
        "model.fit(train_images, train_labels,\n",
        "          epochs=10,\n",
        "          batch_size=128,\n",
        "          validation_split=0.2)"
      ]
    },
    {
      "cell_type": "markdown",
      "metadata": {
        "id": "zytRyBmi1QtA"
      },
      "source": [
        "**The same model with a more appropriate learning rate**"
      ]
    },
    {
      "cell_type": "code",
      "execution_count": 32,
      "metadata": {
        "id": "ChdUizcS1QtA",
        "outputId": "965b6255-a158-4e53-dbdb-c98c4974ddd5",
        "colab": {
          "base_uri": "https://localhost:8080/"
        }
      },
      "outputs": [
        {
          "output_type": "stream",
          "name": "stdout",
          "text": [
            "Epoch 1/10\n",
            "375/375 [==============================] - 2s 4ms/step - loss: 0.3549 - accuracy: 0.9108 - val_loss: 0.1819 - val_accuracy: 0.9497\n",
            "Epoch 2/10\n",
            "375/375 [==============================] - 1s 3ms/step - loss: 0.1273 - accuracy: 0.9649 - val_loss: 0.1276 - val_accuracy: 0.9646\n",
            "Epoch 3/10\n",
            "375/375 [==============================] - 1s 3ms/step - loss: 0.1000 - accuracy: 0.9736 - val_loss: 0.1215 - val_accuracy: 0.9722\n",
            "Epoch 4/10\n",
            "375/375 [==============================] - 1s 3ms/step - loss: 0.0833 - accuracy: 0.9791 - val_loss: 0.1794 - val_accuracy: 0.9690\n",
            "Epoch 5/10\n",
            "375/375 [==============================] - 1s 3ms/step - loss: 0.0733 - accuracy: 0.9820 - val_loss: 0.1521 - val_accuracy: 0.9726\n",
            "Epoch 6/10\n",
            "375/375 [==============================] - 1s 4ms/step - loss: 0.0616 - accuracy: 0.9845 - val_loss: 0.1712 - val_accuracy: 0.9732\n",
            "Epoch 7/10\n",
            "375/375 [==============================] - 2s 5ms/step - loss: 0.0501 - accuracy: 0.9883 - val_loss: 0.2803 - val_accuracy: 0.9613\n",
            "Epoch 8/10\n",
            "375/375 [==============================] - 1s 3ms/step - loss: 0.0487 - accuracy: 0.9885 - val_loss: 0.2101 - val_accuracy: 0.9753\n",
            "Epoch 9/10\n",
            "375/375 [==============================] - 1s 3ms/step - loss: 0.0453 - accuracy: 0.9900 - val_loss: 0.2373 - val_accuracy: 0.9708\n",
            "Epoch 10/10\n",
            "375/375 [==============================] - 1s 3ms/step - loss: 0.0415 - accuracy: 0.9909 - val_loss: 0.2220 - val_accuracy: 0.9738\n"
          ]
        },
        {
          "output_type": "execute_result",
          "data": {
            "text/plain": [
              "<keras.callbacks.History at 0x7f7165d65af0>"
            ]
          },
          "metadata": {},
          "execution_count": 32
        }
      ],
      "source": [
        "model = keras.Sequential([\n",
        "    layers.Dense(512, activation=\"relu\"),\n",
        "    layers.Dense(10, activation=\"softmax\")\n",
        "])\n",
        "model.compile(optimizer=keras.optimizers.RMSprop(1e-2),\n",
        "              loss=\"sparse_categorical_crossentropy\",\n",
        "              metrics=[\"accuracy\"])\n",
        "model.fit(train_images, train_labels,\n",
        "          epochs=10,\n",
        "          batch_size=128,\n",
        "          validation_split=0.2)"
      ]
    },
    {
      "cell_type": "markdown",
      "source": [
        "#when model fails\n"
      ],
      "metadata": {
        "id": "dbKscbnC7CWE"
      }
    },
    {
      "cell_type": "code",
      "source": [
        "model = keras.Sequential([\n",
        "    layers.Dense(512, activation=\"relu\"),\n",
        "    layers.Dense(10, activation=\"softmax\")\n",
        "])\n",
        "model.compile(optimizer=keras.optimizers.RMSprop(1e-10),\n",
        "              loss=\"sparse_categorical_crossentropy\",\n",
        "              metrics=[\"accuracy\"])\n",
        "model.fit(train_images, train_labels,\n",
        "          epochs=10,\n",
        "          batch_size=128,\n",
        "          validation_split=0.2)"
      ],
      "metadata": {
        "id": "qKp5TlRI7E4R",
        "outputId": "9342c758-7131-4028-fb8d-216fb92ea783",
        "colab": {
          "base_uri": "https://localhost:8080/"
        }
      },
      "execution_count": 34,
      "outputs": [
        {
          "output_type": "stream",
          "name": "stdout",
          "text": [
            "Epoch 1/10\n",
            "375/375 [==============================] - 2s 4ms/step - loss: 2.3174 - accuracy: 0.0654 - val_loss: 2.3179 - val_accuracy: 0.0690\n",
            "Epoch 2/10\n",
            "375/375 [==============================] - 2s 4ms/step - loss: 2.3174 - accuracy: 0.0654 - val_loss: 2.3179 - val_accuracy: 0.0690\n",
            "Epoch 3/10\n",
            "375/375 [==============================] - 1s 4ms/step - loss: 2.3174 - accuracy: 0.0654 - val_loss: 2.3179 - val_accuracy: 0.0690\n",
            "Epoch 4/10\n",
            "375/375 [==============================] - 1s 3ms/step - loss: 2.3174 - accuracy: 0.0654 - val_loss: 2.3179 - val_accuracy: 0.0690\n",
            "Epoch 5/10\n",
            "375/375 [==============================] - 1s 3ms/step - loss: 2.3174 - accuracy: 0.0654 - val_loss: 2.3179 - val_accuracy: 0.0690\n",
            "Epoch 6/10\n",
            "375/375 [==============================] - 1s 3ms/step - loss: 2.3174 - accuracy: 0.0654 - val_loss: 2.3179 - val_accuracy: 0.0690\n",
            "Epoch 7/10\n",
            "375/375 [==============================] - 1s 3ms/step - loss: 2.3174 - accuracy: 0.0654 - val_loss: 2.3179 - val_accuracy: 0.0690\n",
            "Epoch 8/10\n",
            "375/375 [==============================] - 1s 3ms/step - loss: 2.3174 - accuracy: 0.0654 - val_loss: 2.3179 - val_accuracy: 0.0690\n",
            "Epoch 9/10\n",
            "375/375 [==============================] - 1s 3ms/step - loss: 2.3174 - accuracy: 0.0654 - val_loss: 2.3179 - val_accuracy: 0.0690\n",
            "Epoch 10/10\n",
            "375/375 [==============================] - 1s 3ms/step - loss: 2.3174 - accuracy: 0.0654 - val_loss: 2.3179 - val_accuracy: 0.0690\n"
          ]
        },
        {
          "output_type": "execute_result",
          "data": {
            "text/plain": [
              "<keras.callbacks.History at 0x7f7165a8c4c0>"
            ]
          },
          "metadata": {},
          "execution_count": 34
        }
      ]
    },
    {
      "cell_type": "markdown",
      "metadata": {
        "id": "hFSdgDB51QtB"
      },
      "source": [
        "### Leveraging better architecture priors"
      ]
    },
    {
      "cell_type": "markdown",
      "metadata": {
        "id": "-fMS-kFV1QtB"
      },
      "source": [
        "### Increasing model capacity"
      ]
    },
    {
      "cell_type": "markdown",
      "metadata": {
        "id": "G5Ty9-4o1QtC"
      },
      "source": [
        "**A simple logistic regression on MNIST**"
      ]
    },
    {
      "cell_type": "code",
      "execution_count": 42,
      "metadata": {
        "id": "vmjTNOLG1QtD",
        "outputId": "f66c8ecf-b28d-4a44-d10c-938a6d28f0fc",
        "colab": {
          "base_uri": "https://localhost:8080/"
        }
      },
      "outputs": [
        {
          "output_type": "stream",
          "name": "stdout",
          "text": [
            "Epoch 1/20\n",
            "375/375 [==============================] - 3s 5ms/step - loss: 2.3300 - accuracy: 0.1009 - val_loss: 2.3221 - val_accuracy: 0.1023\n",
            "Epoch 2/20\n",
            "375/375 [==============================] - 1s 3ms/step - loss: 2.3126 - accuracy: 0.1080 - val_loss: 2.3204 - val_accuracy: 0.1008\n",
            "Epoch 3/20\n",
            "375/375 [==============================] - 1s 3ms/step - loss: 2.3068 - accuracy: 0.1138 - val_loss: 2.3218 - val_accuracy: 0.1057\n",
            "Epoch 4/20\n",
            "375/375 [==============================] - 1s 3ms/step - loss: 2.3028 - accuracy: 0.1180 - val_loss: 2.3199 - val_accuracy: 0.1006\n",
            "Epoch 5/20\n",
            "375/375 [==============================] - 1s 3ms/step - loss: 2.2994 - accuracy: 0.1221 - val_loss: 2.3203 - val_accuracy: 0.0998\n",
            "Epoch 6/20\n",
            "375/375 [==============================] - 2s 4ms/step - loss: 2.2965 - accuracy: 0.1211 - val_loss: 2.3245 - val_accuracy: 0.1023\n",
            "Epoch 7/20\n",
            "375/375 [==============================] - 1s 3ms/step - loss: 2.2953 - accuracy: 0.1230 - val_loss: 2.3232 - val_accuracy: 0.1057\n",
            "Epoch 8/20\n",
            "375/375 [==============================] - 1s 3ms/step - loss: 2.2932 - accuracy: 0.1260 - val_loss: 2.3240 - val_accuracy: 0.0983\n",
            "Epoch 9/20\n",
            "375/375 [==============================] - 1s 3ms/step - loss: 2.2912 - accuracy: 0.1294 - val_loss: 2.3261 - val_accuracy: 0.1008\n",
            "Epoch 10/20\n",
            "375/375 [==============================] - 1s 4ms/step - loss: 2.2896 - accuracy: 0.1296 - val_loss: 2.3236 - val_accuracy: 0.1053\n",
            "Epoch 11/20\n",
            "375/375 [==============================] - 1s 3ms/step - loss: 2.2886 - accuracy: 0.1310 - val_loss: 2.3252 - val_accuracy: 0.1037\n",
            "Epoch 12/20\n",
            "375/375 [==============================] - 1s 3ms/step - loss: 2.2874 - accuracy: 0.1323 - val_loss: 2.3278 - val_accuracy: 0.1041\n",
            "Epoch 13/20\n",
            "375/375 [==============================] - 1s 3ms/step - loss: 2.2867 - accuracy: 0.1326 - val_loss: 2.3290 - val_accuracy: 0.1046\n",
            "Epoch 14/20\n",
            "375/375 [==============================] - 1s 3ms/step - loss: 2.2851 - accuracy: 0.1361 - val_loss: 2.3276 - val_accuracy: 0.1006\n",
            "Epoch 15/20\n",
            "375/375 [==============================] - 1s 3ms/step - loss: 2.2849 - accuracy: 0.1350 - val_loss: 2.3325 - val_accuracy: 0.1021\n",
            "Epoch 16/20\n",
            "375/375 [==============================] - 1s 3ms/step - loss: 2.2838 - accuracy: 0.1361 - val_loss: 2.3293 - val_accuracy: 0.1047\n",
            "Epoch 17/20\n",
            "375/375 [==============================] - 1s 3ms/step - loss: 2.2830 - accuracy: 0.1377 - val_loss: 2.3294 - val_accuracy: 0.1037\n",
            "Epoch 18/20\n",
            "375/375 [==============================] - 1s 3ms/step - loss: 2.2825 - accuracy: 0.1369 - val_loss: 2.3323 - val_accuracy: 0.1014\n",
            "Epoch 19/20\n",
            "375/375 [==============================] - 1s 3ms/step - loss: 2.2817 - accuracy: 0.1368 - val_loss: 2.3312 - val_accuracy: 0.1022\n",
            "Epoch 20/20\n",
            "375/375 [==============================] - 1s 4ms/step - loss: 2.2807 - accuracy: 0.1375 - val_loss: 2.3282 - val_accuracy: 0.1038\n"
          ]
        }
      ],
      "source": [
        "model = keras.Sequential([layers.Dense(10, activation=\"softmax\")])\n",
        "model.compile(optimizer=\"rmsprop\",\n",
        "              loss=\"sparse_categorical_crossentropy\",\n",
        "              metrics=[\"accuracy\"])\n",
        "history_small_model = model.fit(\n",
        "    train_images, train_labels,\n",
        "    epochs=20,\n",
        "    batch_size=128,\n",
        "    validation_split=0.2)"
      ]
    },
    {
      "cell_type": "code",
      "execution_count": 43,
      "metadata": {
        "id": "GSVrHlDA1QtE",
        "outputId": "6c194a80-6869-4f5b-b0eb-fdd92ac8c065",
        "colab": {
          "base_uri": "https://localhost:8080/",
          "height": 490
        }
      },
      "outputs": [
        {
          "output_type": "execute_result",
          "data": {
            "text/plain": [
              "<matplotlib.legend.Legend at 0x7f715f7ddd00>"
            ]
          },
          "metadata": {},
          "execution_count": 43
        },
        {
          "output_type": "display_data",
          "data": {
            "text/plain": [
              "<Figure size 640x480 with 1 Axes>"
            ],
            "image/png": "[encoded data removed]"
          },
          "metadata": {}
        }
      ],
      "source": [
        "import matplotlib.pyplot as plt\n",
        "val_loss = history_small_model.history[\"val_loss\"]\n",
        "epochs = range(1, 21)\n",
        "plt.plot(epochs, val_loss, \"b--\",\n",
        "         label=\"Validation loss\")\n",
        "plt.title(\"Effect of insufficient model capacity on validation loss\")\n",
        "plt.xlabel(\"Epochs\")\n",
        "plt.ylabel(\"Loss\")\n",
        "plt.legend()"
      ]
    },
    {
      "cell_type": "code",
      "execution_count": null,
      "metadata": {
        "id": "eRdctDge1QtE"
      },
      "outputs": [],
      "source": [
        "model = keras.Sequential([\n",
        "    layers.Dense(96, activation=\"relu\"),\n",
        "    layers.Dense(96, activation=\"relu\"),\n",
        "    layers.Dense(10, activation=\"softmax\"),\n",
        "])\n",
        "model.compile(optimizer=\"rmsprop\",\n",
        "              loss=\"sparse_categorical_crossentropy\",\n",
        "              metrics=[\"accuracy\"])\n",
        "history_large_model = model.fit(\n",
        "    train_images, train_labels,\n",
        "    epochs=20,\n",
        "    batch_size=128,\n",
        "    validation_split=0.2)"
      ]
    },
    {
      "cell_type": "markdown",
      "metadata": {
        "id": "SuP0ilOv1QtF"
      },
      "source": [
        "## Improving generalization"
      ]
    },
    {
      "cell_type": "markdown",
      "metadata": {
        "id": "mWqD0CNo1QtF"
      },
      "source": [
        "### Dataset curation"
      ]
    },
    {
      "cell_type": "markdown",
      "metadata": {
        "id": "LWfM8ztn1QtG"
      },
      "source": [
        "### Feature engineering"
      ]
    },
    {
      "cell_type": "markdown",
      "metadata": {
        "id": "3vMblMFT1QtG"
      },
      "source": [
        "### Using early stopping"
      ]
    },
    {
      "cell_type": "markdown",
      "metadata": {
        "id": "VFWN8NC71QtG"
      },
      "source": [
        "### Regularizing your model"
      ]
    },
    {
      "cell_type": "markdown",
      "metadata": {
        "id": "TDbp845M1QtH"
      },
      "source": [
        "#### Reducing the network's size"
      ]
    },
    {
      "cell_type": "markdown",
      "metadata": {
        "id": "T9eTNOtc1QtH"
      },
      "source": [
        "**Original model**"
      ]
    },
    {
      "cell_type": "code",
      "execution_count": null,
      "metadata": {
        "id": "1Na1AHWm1QtH"
      },
      "outputs": [],
      "source": [
        "from tensorflow.keras.datasets import imdb\n",
        "(train_data, train_labels), _ = imdb.load_data(num_words=10000)\n",
        "\n",
        "def vectorize_sequences(sequences, dimension=10000):\n",
        "    results = np.zeros((len(sequences), dimension))\n",
        "    for i, sequence in enumerate(sequences):\n",
        "        results[i, sequence] = 1.\n",
        "    return results\n",
        "train_data = vectorize_sequences(train_data)\n",
        "\n",
        "model = keras.Sequential([\n",
        "    layers.Dense(16, activation=\"relu\"),\n",
        "    layers.Dense(16, activation=\"relu\"),\n",
        "    layers.Dense(1, activation=\"sigmoid\")\n",
        "])\n",
        "model.compile(optimizer=\"rmsprop\",\n",
        "              loss=\"binary_crossentropy\",\n",
        "              metrics=[\"accuracy\"])\n",
        "history_original = model.fit(train_data, train_labels,\n",
        "                             epochs=20, batch_size=512, validation_split=0.4)"
      ]
    },
    {
      "cell_type": "markdown",
      "metadata": {
        "id": "58waQdNA1QtI"
      },
      "source": [
        "**Version of the model with lower capacity**"
      ]
    },
    {
      "cell_type": "code",
      "execution_count": null,
      "metadata": {
        "id": "6SlpqasP1QtI"
      },
      "outputs": [],
      "source": [
        "model = keras.Sequential([\n",
        "    layers.Dense(4, activation=\"relu\"),\n",
        "    layers.Dense(4, activation=\"relu\"),\n",
        "    layers.Dense(1, activation=\"sigmoid\")\n",
        "])\n",
        "model.compile(optimizer=\"rmsprop\",\n",
        "              loss=\"binary_crossentropy\",\n",
        "              metrics=[\"accuracy\"])\n",
        "history_smaller_model = model.fit(\n",
        "    train_data, train_labels,\n",
        "    epochs=20, batch_size=512, validation_split=0.4)"
      ]
    },
    {
      "cell_type": "markdown",
      "metadata": {
        "id": "J9l9I0bp1QtJ"
      },
      "source": [
        "**Version of the model with higher capacity**"
      ]
    },
    {
      "cell_type": "code",
      "execution_count": null,
      "metadata": {
        "id": "UvcnMHyD1QtJ"
      },
      "outputs": [],
      "source": [
        "model = keras.Sequential([\n",
        "    layers.Dense(512, activation=\"relu\"),\n",
        "    layers.Dense(512, activation=\"relu\"),\n",
        "    layers.Dense(1, activation=\"sigmoid\")\n",
        "])\n",
        "model.compile(optimizer=\"rmsprop\",\n",
        "              loss=\"binary_crossentropy\",\n",
        "              metrics=[\"accuracy\"])\n",
        "history_larger_model = model.fit(\n",
        "    train_data, train_labels,\n",
        "    epochs=20, batch_size=512, validation_split=0.4)"
      ]
    },
    {
      "cell_type": "markdown",
      "metadata": {
        "id": "lm_RbLdg1QtJ"
      },
      "source": [
        "#### Adding weight regularization"
      ]
    },
    {
      "cell_type": "markdown",
      "metadata": {
        "id": "KJ0r8uXn1QtK"
      },
      "source": [
        "**Adding L2 weight regularization to the model**"
      ]
    },
    {
      "cell_type": "code",
      "execution_count": null,
      "metadata": {
        "id": "7SOI4gJ01QtK"
      },
      "outputs": [],
      "source": [
        "from tensorflow.keras import regularizers\n",
        "model = keras.Sequential([\n",
        "    layers.Dense(16,\n",
        "                 kernel_regularizer=regularizers.l2(0.002),\n",
        "                 activation=\"relu\"),\n",
        "    layers.Dense(16,\n",
        "                 kernel_regularizer=regularizers.l2(0.002),\n",
        "                 activation=\"relu\"),\n",
        "    layers.Dense(1, activation=\"sigmoid\")\n",
        "])\n",
        "model.compile(optimizer=\"rmsprop\",\n",
        "              loss=\"binary_crossentropy\",\n",
        "              metrics=[\"accuracy\"])\n",
        "history_l2_reg = model.fit(\n",
        "    train_data, train_labels,\n",
        "    epochs=20, batch_size=512, validation_split=0.4)"
      ]
    },
    {
      "cell_type": "markdown",
      "metadata": {
        "id": "suVi0E--1QtL"
      },
      "source": [
        "**Different weight regularizers available in Keras**"
      ]
    },
    {
      "cell_type": "code",
      "execution_count": null,
      "metadata": {
        "id": "2oCKEhlh1QtL"
      },
      "outputs": [],
      "source": [
        "from tensorflow.keras import regularizers\n",
        "regularizers.l1(0.001)\n",
        "regularizers.l1_l2(l1=0.001, l2=0.001)"
      ]
    },
    {
      "cell_type": "markdown",
      "metadata": {
        "id": "C_PLumh01QtL"
      },
      "source": [
        "#### Adding dropout"
      ]
    },
    {
      "cell_type": "markdown",
      "metadata": {
        "id": "gaw2yZzA1QtM"
      },
      "source": [
        "**Adding dropout to the IMDB model**"
      ]
    },
    {
      "cell_type": "code",
      "execution_count": null,
      "metadata": {
        "id": "JsPHBnY_1QtM"
      },
      "outputs": [],
      "source": [
        "model = keras.Sequential([\n",
        "    layers.Dense(16, activation=\"relu\"),\n",
        "    layers.Dropout(0.5),\n",
        "    layers.Dense(16, activation=\"relu\"),\n",
        "    layers.Dropout(0.5),\n",
        "    layers.Dense(1, activation=\"sigmoid\")\n",
        "])\n",
        "model.compile(optimizer=\"rmsprop\",\n",
        "              loss=\"binary_crossentropy\",\n",
        "              metrics=[\"accuracy\"])\n",
        "history_dropout = model.fit(\n",
        "    train_data, train_labels,\n",
        "    epochs=20, batch_size=512, validation_split=0.4)"
      ]
    },
    {
      "cell_type": "markdown",
      "metadata": {
        "id": "qvlgLYHj1QtM"
      },
      "source": [
        "## Summary"
      ]
    }
  ],
  "metadata": {
    "colab": {
      "name": "chapter05_fundamentals-of-ml.i",
      "provenance": []
    },
    "kernelspec": {
      "display_name": "Python 3",
      "language": "python",
      "name": "python3"
    },
    "language_info": {
      "codemirror_mode": {
        "name": "ipython",
        "version": 3
      },
      "file_extension": ".py",
      "mimetype": "text/x-python",
      "name": "python",
      "nbconvert_exporter": "python",
      "pygments_lexer": "ipython3",
      "version": "3.7.0"
    },
    "accelerator": "GPU",
    "gpuClass": "standard"
  },
  "nbformat": 4,
  "nbformat_minor": 0
}