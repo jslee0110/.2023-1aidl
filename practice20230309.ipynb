{
  "nbformat": 4,
  "nbformat_minor": 0,
  "metadata": {
    "colab": {
      "provenance": [],
      "authorship_tag": "ABX9TyNqWZLirBokf3pz8ogIW+Fx",
      "include_colab_link": true
    },
    "kernelspec": {
      "name": "python3",
      "display_name": "Python 3"
    },
    "language_info": {
      "name": "python"
    }
  },
  "cells": [
    {
      "cell_type": "markdown",
      "metadata": {
        "id": "view-in-github",
        "colab_type": "text"
      },
      "source": [
        "<a href=\"https://colab.research.google.com/github/jslee0110/.2023-1aidl/blob/main/practice20230309.ipynb\" target=\"_parent\"><img src=\"https://colab.research.google.com/assets/colab-badge.svg\" alt=\"Open In Colab\"/></a>"
      ]
    },
    {
      "cell_type": "markdown",
      "source": [],
      "metadata": {
        "id": "UzISNAO6cKBi"
      }
    },
    {
      "cell_type": "markdown",
      "source": [
        "hello world\n",
        "\n",
        "- list1\n",
        "- list2\n"
      ],
      "metadata": {
        "id": "mfrM2VTocNC1"
      }
    },
    {
      "cell_type": "markdown",
      "source": [
        "### sutitles\n"
      ],
      "metadata": {
        "id": "oYTzRzuacTLQ"
      }
    },
    {
      "cell_type": "code",
      "execution_count": null,
      "metadata": {
        "colab": {
          "base_uri": "https://localhost:8080/"
        },
        "id": "amEL4RDcb_8E",
        "outputId": "85db2616-ab7a-4d31-b4e1-f79d1f8a23ce"
      },
      "outputs": [
        {
          "output_type": "execute_result",
          "data": {
            "text/plain": [
              "2"
            ]
          },
          "metadata": {},
          "execution_count": 1
        }
      ],
      "source": [
        "1+1\n"
      ]
    },
    {
      "cell_type": "code",
      "source": [],
      "metadata": {
        "id": "5Q1zVJnlchw2"
      },
      "execution_count": null,
      "outputs": []
    }
  ]
}