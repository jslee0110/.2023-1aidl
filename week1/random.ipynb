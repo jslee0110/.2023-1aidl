{
  "nbformat": 4,
  "nbformat_minor": 0,
  "metadata": {
    "colab": {
      "provenance": [],
      "authorship_tag": "ABX9TyM7Ic5sme2OG4XRvqJhzivY",
      "include_colab_link": true
    },
    "kernelspec": {
      "name": "python3",
      "display_name": "Python 3"
    },
    "language_info": {
      "name": "python"
    }
  },
  "cells": [
    {
      "cell_type": "markdown",
      "metadata": {
        "id": "view-in-github",
        "colab_type": "text"
      },
      "source": [
        "<a href=\"https://colab.research.google.com/github/jslee0110/.2023-1aidl/blob/main/week1/random.ipynb\" target=\"_parent\"><img src=\"https://colab.research.google.com/assets/colab-badge.svg\" alt=\"Open In Colab\"/></a>"
      ]
    },
    {
      "cell_type": "code",
      "execution_count": null,
      "metadata": {
        "id": "Mv4rV9MPxeG8"
      },
      "outputs": [],
      "source": [
        "\n"
      ]
    },
    {
      "cell_type": "markdown",
      "source": [
        "# **Repository for  ai4dl class**\n",
        "\n",
        "\n",
        " _Author: Jeongsu Lee_\n",
        " \n",
        " ## Folders\n",
        "- week[1-16]: excercise notebooks for corresponding weeks\n",
        "\n",
        "\n",
        "\n",
        "\n",
        "\n",
        "![bunny](https://img4.daumcdn.net/thumb/R658x0.q70/?fname=https://t1.daumcdn.net/news/202301/14/kukminilbo/20230114001316698gbsx.jpg)"
      ],
      "metadata": {
        "id": "YzPCXrqIxkBR"
      }
    }
  ]
}